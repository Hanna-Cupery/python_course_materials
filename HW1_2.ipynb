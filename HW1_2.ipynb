{
  "nbformat": 4,
  "nbformat_minor": 5,
  "metadata": {
    "kernelspec": {
      "display_name": "Python 3",
      "language": "python",
      "name": "python3"
    },
    "language_info": {
      "codemirror_mode": {
        "name": "ipython",
        "version": 3
      },
      "file_extension": ".py",
      "mimetype": "text/x-python",
      "name": "python",
      "nbconvert_exporter": "python",
      "pygments_lexer": "ipython3",
      "version": "3.8.8"
    },
    "colab": {
      "name": "HW1-2.ipynb ",
      "provenance": []
    }
  },
  "cells": [
    {
      "cell_type": "markdown",
      "metadata": {
        "id": "ef43214b"
      },
      "source": [
        "# 0. Наибольший общий делитель - 1 балл\n",
        "Напишите функцию, которая на вход принимает два целых числа, а на выходе отдает их наибольших общий делитель. \n",
        "\n",
        "Пример\n",
        "\n",
        "Ввод \n",
        "\n",
        "`lcd(10,2)`\n",
        "\n",
        "Вывод\n",
        "\n",
        "`2`\n",
        "\n",
        "Пример\n",
        "\n",
        "Ввод \n",
        "\n",
        "`lcd(10,25)`\n",
        "\n",
        "Вывод\n",
        "\n",
        "`5`"
      ],
      "id": "ef43214b"
    },
    {
      "cell_type": "markdown",
      "metadata": {
        "id": "LDzegV6v3M69"
      },
      "source": [
        ""
      ],
      "id": "LDzegV6v3M69"
    },
    {
      "cell_type": "code",
      "metadata": {
        "id": "d227561c",
        "colab": {
          "base_uri": "https://localhost:8080/"
        },
        "outputId": "4182b9e0-0a64-4089-cde8-4b833ed6b4b6"
      },
      "source": [
        "def gcd(first, second):\n",
        "    '''\n",
        "    Takes two numbers and returns their greatest common divisor\n",
        "    '''\n",
        "    dFirst = [] #finds the divisors of the first number\n",
        "    for x in range(first,0, -1): #the list starts from the hightest divisors\n",
        "        if first % x==0:\n",
        "            dFirst.append(x)\n",
        "    for elem in dFirst:\n",
        "        if second % elem == 0:\n",
        "            return elem #when it finds an element that also is also a divisor for the second number, it returns that element\n",
        "    \n",
        "print(gcd(5,25))\n",
        "print(gcd(10,2))\n",
        "print(gcd(10,25))\n",
        "print(gcd(2313, 123))"
      ],
      "id": "d227561c",
      "execution_count": 43,
      "outputs": [
        {
          "output_type": "stream",
          "name": "stdout",
          "text": [
            "5\n",
            "2\n",
            "5\n",
            "3\n"
          ]
        }
      ]
    },
    {
      "cell_type": "markdown",
      "metadata": {
        "id": "777171f3"
      },
      "source": [
        "# 1. Задачка про перевод из `camel_case`'a в `snake_case` - 1.5 балла\n",
        " Напишите функцию, которая на вход принимает строку, записанную в `CamelCase`, а переводит ее в `snake_case`.\n",
        " Подсказка: идите по строке циклом, обрабатывайте каждый символ, если символ заглавный, к обработанным ранее добавляйте нижнее подчеркивание и нынешний переводите в `lower case` \n",
        " \n",
        " Пример:\n",
        "\n",
        "**Вход**: `'camelCaseVar'`\n",
        "\n",
        "**Выход**: `'camel_сase_var'`"
      ],
      "id": "777171f3"
    },
    {
      "cell_type": "code",
      "metadata": {
        "id": "5e4c1ced",
        "colab": {
          "base_uri": "https://localhost:8080/"
        },
        "outputId": "3ef4ea0d-95d1-42d3-9ce6-b15cc1c6102a"
      },
      "source": [
        "def snake_case(inp):\n",
        "    capitalLetters= 'ABCDEFGHIJKLMNOPQRSTUVWXYZ'\n",
        "    out = []\n",
        "    for let in inp:\n",
        "        if let in capitalLetters:\n",
        "            out.append('_')\n",
        "            out.append(let.lower())\n",
        "        else:\n",
        "            out.append(let)\n",
        "    strout =''.join([str(item) for item in out])\n",
        "    return strout\n",
        "print(snake_case('camelCaseVar'))\n",
        "print(snake_case('thisIsMyVariable'))\n"
      ],
      "id": "5e4c1ced",
      "execution_count": 40,
      "outputs": [
        {
          "output_type": "stream",
          "name": "stdout",
          "text": [
            "camel_case_var\n",
            "this_is_my_variable\n"
          ]
        }
      ]
    },
    {
      "cell_type": "markdown",
      "metadata": {
        "id": "929847a2"
      },
      "source": [
        "# 2. Про Поросёнка Петра - 2 балла\n",
        "На плоскости в точке `(0,0)` стоит Поросёнок Пётр. Он умеет ходить налево, направо, вверх и вниз. Расстояние его прохода в какую-либо сторону измеряется в шагах. Когда он идет вправо, его первая координата увеличивается, когда влево - уменьшается. Когда он идет вверх, его вторая координата увеличивается, а когда вниз - уменьшается.\n",
        "С клавиатуры считывается число `N` - число ходов, которые сделает Пётр. После чего на каждом шаге спрашивается, сколько шагов и в какую сторону за этот ход Пётр сделает. Так происходит, пока Пётр не осуществит все N ходов.\n",
        "Программа должна вывести, сколько шагов Пётр должен был бы сделать, чтобы кратчайшим путем прибыть из свое начальной точки `(0,0)` в свою конечную точку. \n",
        "\n",
        "Напоминание: Пётр умеет ходить только вверх-вниз, и влево-вправо, но не по диагонали.\n",
        "\n",
        "Пример ввода:\n",
        "\n",
        "Введите N: `3`\n",
        "\n",
        "Ход 1: `Вверх 1`\n",
        "\n",
        "Ход 2: `Вниз 1`\n",
        "\n",
        "Ход 3: `Вверх 1`\n",
        "\n",
        "Пример вывода:\n",
        "`Пётр находится на расстоянии 1 от (0,0)`"
      ],
      "id": "929847a2"
    },
    {
      "cell_type": "code",
      "metadata": {
        "id": "b3231431",
        "colab": {
          "base_uri": "https://localhost:8080/"
        },
        "outputId": "e6f509e3-4f11-44a7-d143-62bb196194f3"
      },
      "source": [
        "\n",
        "def Petrmoves():\n",
        "    steps = int(input('Введите N: '))\n",
        "    xCor = 0\n",
        "    yCor = 0\n",
        "    for x in range(steps):\n",
        "        dir = input(\"Ход \" +str(x+1) + ': ')\n",
        "        steps = int(dir[len(dir)-1])\n",
        "        if 'Вверх' in dir:\n",
        "            yCor += steps\n",
        "        if \"Вниз\" in dir:\n",
        "            yCor -= steps\n",
        "        if 'Налево' in dir:\n",
        "            xCor -= steps\n",
        "        if \"Направо\" in dir:\n",
        "            xCor += steps\n",
        "\n",
        "    dist = xCor+yCor\n",
        "    print('Пётр находдится на расстоянни ' + str(dist) + ' от (0,0)')\n",
        "Petrmoves()"
      ],
      "id": "b3231431",
      "execution_count": 39,
      "outputs": [
        {
          "output_type": "stream",
          "name": "stdout",
          "text": [
            "Введите N: 3\n",
            "Ход 1: Вверх 3\n",
            "Ход 2: Вниз 2\n",
            "Ход 3: Направо 1\n",
            "Пётр находдится на расстоянни 2 от (0,0)\n"
          ]
        }
      ]
    },
    {
      "cell_type": "code",
      "metadata": {
        "id": "5fa08fd0"
      },
      "source": [
        ""
      ],
      "id": "5fa08fd0",
      "execution_count": null,
      "outputs": []
    },
    {
      "cell_type": "markdown",
      "metadata": {
        "id": "818909ca"
      },
      "source": [
        "# 3. Sort the keys of the dictionary from a to z.  - 0.5 балла"
      ],
      "id": "818909ca"
    },
    {
      "cell_type": "code",
      "metadata": {
        "id": "b81d45f3",
        "colab": {
          "base_uri": "https://localhost:8080/"
        },
        "outputId": "791cfc77-c8fd-4122-b98c-0461facc6e11"
      },
      "source": [
        "d= {\"tiramisu\":5, \"chocolate\":2, \"pudding\":3, \"cheesecake\":4}\n",
        "e = {'elephant':3, 'ant':500, 'anteater:':7,'horse':6}\n",
        "def Alphabetize(x:dict): \n",
        "    sortednames = sorted(x.keys())\n",
        "    newSortedNames= {}\n",
        "    for i in sortednames:\n",
        "        newSortedNames[i]=x[i]\n",
        "    return newSortedNames\n",
        "\n",
        "print(Alphabetize(d))\n",
        "print(Alphabetize(e))\n"
      ],
      "id": "b81d45f3",
      "execution_count": 36,
      "outputs": [
        {
          "output_type": "stream",
          "name": "stdout",
          "text": [
            "{'cheesecake': 4, 'chocolate': 2, 'pudding': 3, 'tiramisu': 5}\n",
            "{'ant': 500, 'anteater:': 7, 'elephant': 3, 'horse': 6}\n"
          ]
        }
      ]
    },
    {
      "cell_type": "markdown",
      "metadata": {
        "id": "77275ebf"
      },
      "source": [
        "# 4. Compare three values, return true only if 2 or more values are equal - 0.5 балла"
      ],
      "id": "77275ebf"
    },
    {
      "cell_type": "code",
      "metadata": {
        "id": "d0893272",
        "colab": {
          "base_uri": "https://localhost:8080/"
        },
        "outputId": "0c581e8c-95e0-408c-ea0c-fa06b8db87e6"
      },
      "source": [
        "def isEqual(x: int, y: int, z: int):\n",
        "    value = False\n",
        "    if x == y:\n",
        "        value = True\n",
        "    if x == z:\n",
        "        value = True\n",
        "    if y == z:\n",
        "        value = True\n",
        "    return value \n",
        "print(isEqual(2,3,4))\n",
        "print(isEqual(2,3,3))\n",
        "print(isEqual(1,2,1))\n",
        "print(isEqual(0,0,0))"
      ],
      "id": "d0893272",
      "execution_count": 30,
      "outputs": [
        {
          "output_type": "stream",
          "name": "stdout",
          "text": [
            "False\n",
            "True\n",
            "True\n",
            "True\n"
          ]
        }
      ]
    },
    {
      "cell_type": "markdown",
      "metadata": {
        "id": "895340c0"
      },
      "source": [
        "# 5. Given a list with pairs, sort on the sum of pairs - 0.5 балла"
      ],
      "id": "895340c0"
    },
    {
      "cell_type": "code",
      "metadata": {
        "id": "7a8971e2",
        "colab": {
          "base_uri": "https://localhost:8080/"
        },
        "outputId": "729d50b8-0f5a-4c46-c419-18bc78b1f46c"
      },
      "source": [
        "x = [(3,6),(4,7),(5,9),(8,4),(3,1)]\n",
        "def sorted_sums(inp):\n",
        "    length = len(inp)\n",
        "    sums =[]\n",
        "    num =0\n",
        "    for x in inp:\n",
        "        sums.append(((x[0]+x[1]),num)) #creates a list of tuples, first element is the sum, second element is the index in first list\n",
        "        num+=1\n",
        "    sums = sorted(sums) #sort according to the sums\n",
        "    to_return =[]\n",
        "    for x in range(length):\n",
        "        to_return.append(inp[sums[x][1]]) #adds the orginal tuples using the index in the second list \n",
        "    return to_return\n",
        "sorted_sums(x)"
      ],
      "id": "7a8971e2",
      "execution_count": 28,
      "outputs": [
        {
          "output_type": "execute_result",
          "data": {
            "text/plain": [
              "[(3, 1), (3, 6), (4, 7), (8, 4), (5, 9)]"
            ]
          },
          "metadata": {},
          "execution_count": 28
        }
      ]
    },
    {
      "cell_type": "markdown",
      "metadata": {
        "id": "be5b7018"
      },
      "source": [
        "# 6. Create a function that takes a list of numbers. Return the largest number in the list. - 0.5 балла"
      ],
      "id": "be5b7018"
    },
    {
      "cell_type": "code",
      "metadata": {
        "id": "2ddbc7bf",
        "colab": {
          "base_uri": "https://localhost:8080/"
        },
        "outputId": "dfa89d0e-7aad-49ba-c7a1-85ca55822fb7"
      },
      "source": [
        "#findLargestNum([4, 5, 1, 3]) ➞ 5\n",
        "#findLargestNum([300, 200, 600, 150]) ➞ 600\n",
        "#findLargestNum([1000, 1001, 857, 1]) ➞ 1001\n",
        "def findLargestNum(lis:list):\n",
        "    greatest =lis[0] #largest is set to the first element of the list\n",
        "    for x in lis:   \n",
        "        if x>greatest: #iterate through the list, if larger element is found, it becomes the new x\n",
        "            greatest = x      \n",
        "    return greatest\n",
        "    \n",
        "print(findLargestNum([4, 5, 1, 3]))\n",
        "print(findLargestNum([300, 200, 600, 150]))\n",
        "print(findLargestNum([1000, 1001, 857, 1]))\n",
        "print(findLargestNum([0,2,3,4]))\n"
      ],
      "id": "2ddbc7bf",
      "execution_count": 26,
      "outputs": [
        {
          "output_type": "stream",
          "name": "stdout",
          "text": [
            "5\n",
            "600\n",
            "1001\n",
            "4\n"
          ]
        }
      ]
    },
    {
      "cell_type": "markdown",
      "metadata": {
        "id": "17918763"
      },
      "source": [
        "# 7. Create a function that takes a string and returns the concatenated first and last character. - 0.5 балла"
      ],
      "id": "17918763"
    },
    {
      "cell_type": "code",
      "metadata": {
        "id": "7062bfdb",
        "colab": {
          "base_uri": "https://localhost:8080/"
        },
        "outputId": "0a91bdcb-0e58-4a8b-a12d-24bb0b497ff4"
      },
      "source": [
        "#repetition(\"ab\", 3) ➞ \"ababab\"\n",
        "#repetition(\"kiwi\", 1) ➞ \"kiwi\"\n",
        "#repetition(\"cherry\", 2) ➞ \"cherrycherry\"\n",
        "def repetition(x: str, y: int):\n",
        "    return x*y\n",
        "print(repetition(\"ab\", 3))\n",
        "print(repetition(\"kiwi\", 1))\n",
        "print(repetition(\"cherry\", 2))\n",
        "print(repetition('apple', 0))\n",
        "print(repetition('apple',8))"
      ],
      "id": "7062bfdb",
      "execution_count": 24,
      "outputs": [
        {
          "output_type": "stream",
          "name": "stdout",
          "text": [
            "ababab\n",
            "kiwi\n",
            "cherrycherry\n",
            "\n",
            "appleappleappleappleappleappleappleapple\n"
          ]
        }
      ]
    },
    {
      "cell_type": "markdown",
      "metadata": {
        "id": "5c2fe48a"
      },
      "source": [
        "# 8. Create a function that takes a 2D list lst returns the sum of the minimum value in each row. - 0.5 балла"
      ],
      "id": "5c2fe48a"
    },
    {
      "cell_type": "code",
      "metadata": {
        "id": "c3232abb",
        "colab": {
          "base_uri": "https://localhost:8080/"
        },
        "outputId": "924971b6-4e3a-4e46-df47-f4248c0226ea"
      },
      "source": [
        "#sum_minimums([\n",
        "#  [1, 2, 3, 4, 5],\n",
        "#  [5, 6, 7, 8, 9],\n",
        "#  [20, 21, 34, 56, 100]\n",
        "#] ➞ 26\n",
        "\n",
        "# minimum value of the first row is 1\n",
        "# minimum value of the second row is 5\n",
        "# minimum value of the third row is 20\n",
        "\n",
        "def sum_minimums(lis):\n",
        "    sum = 0\n",
        "    for i in lis:\n",
        "        min = i[0]\n",
        "        for j in i:\n",
        "            if j<min:\n",
        "                min=j\n",
        "        sum +=min\n",
        "    return sum\n",
        "print(sum_minimums([\n",
        " [1, 2, 3, 4, 5],\n",
        " [5, 6, 7, 8, 9],\n",
        " [20, 21, 34, 56, 100]\n",
        "])) \n",
        "print(sum_minimums([\n",
        "    [0,0,0,0],\n",
        "    [1,1,2,3],\n",
        "]))"
      ],
      "id": "c3232abb",
      "execution_count": 22,
      "outputs": [
        {
          "output_type": "stream",
          "name": "stdout",
          "text": [
            "26\n",
            "1\n"
          ]
        }
      ]
    },
    {
      "cell_type": "markdown",
      "metadata": {
        "id": "88c6709f"
      },
      "source": [
        "# 9. Create a function to return the amount of potatoes there are in a string. - 0.5 балла"
      ],
      "id": "88c6709f"
    },
    {
      "cell_type": "code",
      "metadata": {
        "id": "e2610cbd",
        "colab": {
          "base_uri": "https://localhost:8080/"
        },
        "outputId": "2d4a96ec-68c5-4e0b-f223-112c194467b7"
      },
      "source": [
        "#potatoes(\"potato\") ➞ 1\n",
        "#potatoes(\"potatopotato\") ➞ 2\n",
        "#potatoes(\"potatoapple\") ➞ 1\n",
        "def potatoes(st):\n",
        "    num = 0\n",
        "    while(True):  #loop adds 1 to num until there are not more potatoes left in the string\n",
        "        if('potato' in st):\n",
        "            num +=1\n",
        "            cut=st.find('potato')+6\n",
        "            st = st[cut:]\n",
        "        else:\n",
        "            break\n",
        "    return num \n",
        "print(potatoes(\"potato\"))\n",
        "print(potatoes(\"potatopotato\"))\n",
        "print(potatoes(\"potatoapple\"))\n",
        "print(potatoes('none'))"
      ],
      "id": "e2610cbd",
      "execution_count": 13,
      "outputs": [
        {
          "output_type": "stream",
          "name": "stdout",
          "text": [
            "1\n",
            "2\n",
            "1\n",
            "0\n"
          ]
        }
      ]
    },
    {
      "cell_type": "markdown",
      "metadata": {
        "id": "7fb5aa44"
      },
      "source": [
        "# 10. Create a function that takes a list of integers as an argument and returns a unique number from that list. All numbers except unique ones have the same number of occurrences in the list. - 0.5 балла"
      ],
      "id": "7fb5aa44"
    },
    {
      "cell_type": "code",
      "metadata": {
        "id": "a43f80e0",
        "colab": {
          "base_uri": "https://localhost:8080/"
        },
        "outputId": "9c6aa97b-fb17-4aea-aa6d-fd88c65dbcde"
      },
      "source": [
        "#find_single_number([2, 2, 2, 3, 4, 4, 4]) ➞ 3\n",
        "#find_single_number([2]) ➞ 2\n",
        "#find_single_number([]) ➞ None\n",
        "#find_single_number([7, 13, 3, 6, 5, 4, 4, 13, 5, 3, 6, 7, 6, 5, 3, 13, 4, 7, 13, 5, 7, 4, 3, 6, 8, 4, 3, 7, 5, 6, 13]) ➞ 8\n",
        "#find_single_number([1, 2, 3, 6, 5, 4, 4, 2, 5, 3, 6, 1, 6, 5, 3, 2, 4, 1, 2, 5, 1, 4, 3, 6, 101, 4, 3, 1, 5, 6, 2]) ➞ 101\n",
        "def find_single_number(lis):\n",
        "  onlyOnce =[] #a list of all the numbers that have only occured once so far\n",
        "  moreThanOnce =[] #a list of all the numbers that have occured more than once\n",
        "  for x in lis:\n",
        "    if x not in moreThanOnce: #if x hasn't appeared at least two times before\n",
        "      if x not in onlyOnce: #add it into onlyOnce if it is the first time\n",
        "        onlyOnce.append(x)\n",
        "      else: #if it is the second time\n",
        "        onlyOnce.remove(x) #remove from onlyOnce \n",
        "        moreThanOnce.append(x)#and add to moreThanOnce\n",
        "    \n",
        "  if len(onlyOnce)>0:\n",
        "    return onlyOnce[0]\n",
        "  else:\n",
        "    return None\n",
        "print(find_single_number([2, 2, 2, 3, 4, 4, 4]))\n",
        "print(find_single_number([2]))\n",
        "print(find_single_number([]))\n",
        "print(find_single_number([7, 13, 3, 6, 5, 4, 4, 13, 5, 3, 6, 7, 6, 5, 3, 13, 4, 7, 13, 5, 7, 4, 3, 6, 8, 4, 3, 7, 5, 6, 13]))\n",
        "print(find_single_number([1, 2, 3, 6, 5, 4, 4, 2, 5, 3, 6, 1, 6, 5, 3, 2, 4, 1, 2, 5, 1, 4, 3, 6, 101, 4, 3, 1, 5, 6, 2]))\n",
        "print(find_single_number([1,2,3,2,3]))"
      ],
      "id": "a43f80e0",
      "execution_count": 15,
      "outputs": [
        {
          "output_type": "stream",
          "name": "stdout",
          "text": [
            "3\n",
            "2\n",
            "None\n",
            "8\n",
            "101\n",
            "1\n"
          ]
        }
      ]
    },
    {
      "cell_type": "markdown",
      "metadata": {
        "id": "0313ea52"
      },
      "source": [
        "# 11. Given a letter and a list of words, return whether the letter does not appear in any of the words. - 0.5 балла"
      ],
      "id": "0313ea52"
    },
    {
      "cell_type": "code",
      "metadata": {
        "id": "0cb649a5",
        "colab": {
          "base_uri": "https://localhost:8080/"
        },
        "outputId": "fa8855f9-4b83-4b81-8b38-bee1fd069a38"
      },
      "source": [
        "#forbidden_letter(\"r\", [\"rock\", \"paper\", \"scissors\"]) ➞ False\n",
        "#forbidden_letter(\"a\", [\"spoon\", \"fork\", \"knife\"]) ➞ True\n",
        "#forbidden_letter(\"m\", []) ➞ True\n",
        "def forbidden_letter(forlet, words):\n",
        "    okay = True #default to true, checks each letter and turns false if the forbidden letter is found\n",
        "    for x in words:\n",
        "        for letter in x:\n",
        "            if forlet == letter:\n",
        "                okay = False\n",
        "    return okay\n",
        "                \n",
        "\n",
        "            \n",
        "print(forbidden_letter(\"r\", [\"rock\", \"paper\", \"scissors\"]))\n",
        "print(forbidden_letter(\"a\", [\"spoon\", \"fork\", \"knife\"]))\n",
        "print(forbidden_letter(\"m\", []))\n",
        "print(forbidden_letter('h',['hurt']))"
      ],
      "id": "0cb649a5",
      "execution_count": 18,
      "outputs": [
        {
          "output_type": "stream",
          "name": "stdout",
          "text": [
            "False\n",
            "True\n",
            "True\n",
            "False\n"
          ]
        }
      ]
    },
    {
      "cell_type": "markdown",
      "metadata": {
        "id": "0a7ef5b5"
      },
      "source": [
        "# 12.  Define a function which create a Pattern like this one.  - 2 балла"
      ],
      "id": "0a7ef5b5"
    },
    {
      "cell_type": "code",
      "metadata": {
        "id": "7617ebb7",
        "colab": {
          "base_uri": "https://localhost:8080/"
        },
        "outputId": "1c0c758b-7252-45f1-ec7a-9e252e0fe649"
      },
      "source": [
        "#Input: 4\n",
        "#Pattern:\n",
        "\n",
        "#01234\n",
        "#  | |     0\n",
        "# -----    1\n",
        "#  | |     2\n",
        "# -----    3\n",
        "#  | |     4\n",
        "def pattern(num):\n",
        "    for x in range(num+1): #first line\n",
        "        print(x, end ='')\n",
        "    print('') #blank line\n",
        "    for x in range(num+1): #pattern\n",
        "        if x%2==0:\n",
        "            print('  | |     ' + str(x))\n",
        "        else:\n",
        "            print(' -----    ' + str(x))\n",
        "            \n",
        "pattern(7)"
      ],
      "id": "7617ebb7",
      "execution_count": 5,
      "outputs": [
        {
          "output_type": "stream",
          "name": "stdout",
          "text": [
            "01234567\n",
            "  | |     0\n",
            " -----    1\n",
            "  | |     2\n",
            " -----    3\n",
            "  | |     4\n",
            " -----    5\n",
            "  | |     6\n",
            " -----    7\n"
          ]
        }
      ]
    },
    {
      "cell_type": "code",
      "metadata": {
        "id": "5d3b0cdd"
      },
      "source": [
        ""
      ],
      "id": "5d3b0cdd",
      "execution_count": null,
      "outputs": []
    },
    {
      "cell_type": "markdown",
      "metadata": {
        "id": "0d5edcd1"
      },
      "source": [
        "# 13. Create a function that takes three numbers as arguments and returns True if it's a triangle and False if not.  - 0.5 балла"
      ],
      "id": "0d5edcd1"
    },
    {
      "cell_type": "code",
      "metadata": {
        "id": "d867302c",
        "colab": {
          "base_uri": "https://localhost:8080/"
        },
        "outputId": "2ddbaf66-12a7-477a-fa0e-ee73602a2ea4"
      },
      "source": [
        "#is_triangle(2, 3, 4) ➞ True\n",
        "#is_triangle(3, 4, 5) ➞ True\n",
        "#is_triangle(4, 3, 8) ➞ False\n",
        "def is_triangle(a,b,c):\n",
        "    value = True #default value set to True, becomes false if 2 sides are equal to or bigger than the remaining third side\n",
        "    if(a+b<=c):\n",
        "        value = False\n",
        "    if(a+c<=b):\n",
        "        value = False\n",
        "    if(b+c<=a):\n",
        "        value = False\n",
        "    return value\n",
        "\n",
        "first = is_triangle(2, 3, 4)\n",
        "second = is_triangle(3, 4, 5)\n",
        "third = is_triangle(4, 3, 8)\n",
        "fourth = is_triangle(1,1,2)\n",
        "print(first, second, third,fourth)"
      ],
      "id": "d867302c",
      "execution_count": 20,
      "outputs": [
        {
          "output_type": "stream",
          "name": "stdout",
          "text": [
            "True True False False\n"
          ]
        }
      ]
    },
    {
      "cell_type": "markdown",
      "metadata": {
        "id": "2bdfb66e"
      },
      "source": [
        "# 14. Create a \"Code\" Generator that takes text as input and replaces some letter with another letter, and outputs the \"encoded\" message. Create funcs to encode and decode messages"
      ],
      "id": "2bdfb66e"
    },
    {
      "cell_type": "code",
      "metadata": {
        "id": "0caf2b35",
        "colab": {
          "base_uri": "https://localhost:8080/"
        },
        "outputId": "379d022c-2ac0-45aa-af0f-cec9ba78585b"
      },
      "source": [
        "replacement = {\"a\": \"b\", \"y\": \"t\"}\n",
        "\n",
        "#Вариант 1 -- эта функция зашифрует как в Вашем примерe: abbby - baaat - abbby\n",
        "# (при условии, что replacement ={'a':'b', 'y':'t'}, т.е. a --> b и  b --> a \n",
        "def code(inp):\n",
        "    codeletters =[] #turns the dictionary into a list \n",
        "    for x in replacement:\n",
        "        codeletters.append(x)\n",
        "        codeletters.append(replacement[x])\n",
        "    letters = []\n",
        "    for x in inp:\n",
        "        if x in codeletters:\n",
        "            num= codeletters.index(x)\n",
        "            if num%2==0:   #reverses adjacent letters \n",
        "                letters.append((codeletters[num+1]))\n",
        "            else:\n",
        "                letters.append((codeletters[num-1]))\n",
        "        else:\n",
        "            letters.append(x)\n",
        "    return ''.join(letters)\n",
        "\n",
        "#Вариант 2 -- encode зашифрует abbby - bbbbt т.е. а --> b\n",
        "#decode зашифрует bbbbt - aaaay т.е b -->a \n",
        "\n",
        "def encode(inp):\n",
        "    letters =[]\n",
        "    for x in inp:\n",
        "        if x in replacement.keys(): #if letter is in keys, add the replacement, if not add the letter \n",
        "            letters.append(replacement[x])\n",
        "        else:\n",
        "            letters.append(x)\n",
        "    return ''.join(letters) #return \n",
        "        \n",
        "def decode(inp):\n",
        "    replacedic ={}\n",
        "    for x in replacement: #creates a new dictionary, where the keys and values are reversed\n",
        "        replacedic[replacement[x]]=x\n",
        "\t\n",
        "    letters =[]\n",
        "    for x in inp: \n",
        "        if x in replacedic.keys():\n",
        "            letters.append(replacedic[x])\n",
        "        else:\n",
        "            letters.append(x)\n",
        "    return ''.join(letters)\n",
        "x = 'abbby'\n",
        "coded1 = code(x)\n",
        "coded2 = code(coded1)\n",
        "print('For \"code\": original: ' + x +' first: ' + coded1 + ' second: ' + coded2)\n",
        "encoded = encode(x)\n",
        "decoded = decode(encoded)\n",
        "print('For encode/decode: original: ' + x + ' encoded: ' + encoded + ' decoded: ' + decoded)"
      ],
      "id": "0caf2b35",
      "execution_count": null,
      "outputs": [
        {
          "output_type": "stream",
          "name": "stdout",
          "text": [
            "For \"code\": original: abbby first: baaat second: abbby\n",
            "For encode/decode: original: abbby encoded: bbbbt decoded: aaaay\n"
          ]
        }
      ]
    }
  ]
}