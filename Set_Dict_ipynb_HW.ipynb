{
  "nbformat": 4,
  "nbformat_minor": 0,
  "metadata": {
    "kernelspec": {
      "display_name": "Python 3",
      "language": "python",
      "name": "python3"
    },
    "language_info": {
      "codemirror_mode": {
        "name": "ipython",
        "version": 3
      },
      "file_extension": ".py",
      "mimetype": "text/x-python",
      "name": "python",
      "nbconvert_exporter": "python",
      "pygments_lexer": "ipython3",
      "version": "3.8.8"
    },
    "colab": {
      "name": "Set_Dict.ipynb HW",
      "provenance": [],
      "collapsed_sections": [
        "orkwHlhkxR8D",
        "8nIq9MenxR8R",
        "a2K-1gIixR8W",
        "MPYJTei8xR8Z",
        "Xv5waI-UxR8d",
        "AYfl8P6BxR8f",
        "33F7lZuQxR8i",
        "uBlb3rPOxR8k",
        "AR1xtnazxR8l",
        "by7GaO6MxR8m",
        "e63ek69gxR8n",
        "OpA4v0gVxR8s",
        "Kk0kOPi_xR8v",
        "xEdmgLj2xR8w",
        "YeCZ-2LQxR88"
      ],
      "include_colab_link": true
    }
  },
  "cells": [
    {
      "cell_type": "markdown",
      "metadata": {
        "id": "view-in-github",
        "colab_type": "text"
      },
      "source": [
        "<a href=\"https://colab.research.google.com/github/Hanna-Cupery/python_course_materials/blob/master/Set_Dict_ipynb_HW.ipynb\" target=\"_parent\"><img src=\"https://colab.research.google.com/assets/colab-badge.svg\" alt=\"Open In Colab\"/></a>"
      ]
    },
    {
      "cell_type": "markdown",
      "metadata": {
        "id": "orkwHlhkxR8D"
      },
      "source": [
        "## Task #0"
      ]
    },
    {
      "cell_type": "markdown",
      "metadata": {
        "id": "3jOag1yfxR8L"
      },
      "source": [
        "Дан одномерный массив числовых значений, насчитывающий N элементов. Исключить из массива элементы, принадлежащие промежутку [1; 3].\n",
        "\n",
        "Input: \n",
        "`[0, 1, 6, 10, 100, 300]`\n",
        "\n",
        "Output:\n",
        "`[0, 10, 100, 300]`"
      ]
    },
    {
      "cell_type": "code",
      "metadata": {
        "id": "ZX2i_eP4xR8N",
        "outputId": "f121243e-2a70-48b8-892c-6ef71461fbdd"
      },
      "source": [
        "lst = [0,1,6,10,100, 300]\n",
        "index = 0\n",
        "left, right = 1, 3\n",
        "index = 0\n",
        "while (index<(right-left)):\n",
        "    lst.pop(left)\n",
        "    index +=1\n",
        "\n",
        "print(lst)"
      ],
      "execution_count": null,
      "outputs": [
        {
          "name": "stdout",
          "output_type": "stream",
          "text": [
            "[0, 10, 100, 300]\n"
          ]
        }
      ]
    },
    {
      "cell_type": "markdown",
      "metadata": {
        "id": "8nIq9MenxR8R"
      },
      "source": [
        "## Task #1"
      ]
    },
    {
      "cell_type": "markdown",
      "metadata": {
        "id": "mp0OIsebxR8S"
      },
      "source": [
        "Дан одномерный массив числовых значений, насчитывающий N элементов. Подсчитать количество чисел, делящихся на 3 нацело, и среднее арифметическое чисел с чётными значениями. Поставить полученные величины на первое и последнее места в массиве (увеличив массив на 2 элемента).\n",
        "\n",
        "Input: \n",
        "`[0, -3, 2, 4]`\n",
        "\n",
        "Output:\n",
        "`[1, 0, -3, 2, 4, 2]`"
      ]
    },
    {
      "cell_type": "code",
      "metadata": {
        "id": "pszTOMKPxR8U",
        "outputId": "d3835e83-bea5-42f3-dbe1-e1b48c131ef8"
      },
      "source": [
        "firstelem = 0\n",
        "lastelem = 0\n",
        "evens = 0\n",
        "index = 0\n",
        "lst = [4, 4, 4,2]\n",
        "while(index<len(lst)):\n",
        "      elem = lst[index]\n",
        "      if elem%2 == 0:\n",
        "          lastelem += elem\n",
        "          evens +=1\n",
        "      if elem%3 == 0:\n",
        "          firstelem +=1\n",
        "      index +=1\n",
        "\n",
        "lastelem //= evens\n",
        "\n",
        "newList = [firstelem] + lst + [lastelem]\n",
        "print(newList)"
      ],
      "execution_count": null,
      "outputs": [
        {
          "name": "stdout",
          "output_type": "stream",
          "text": [
            "[0, 4, 4, 4, 2, 3]\n"
          ]
        }
      ]
    },
    {
      "cell_type": "markdown",
      "metadata": {
        "id": "a2K-1gIixR8W"
      },
      "source": [
        "## Task #2"
      ]
    },
    {
      "cell_type": "markdown",
      "metadata": {
        "id": "ZYr8M9cMxR8X"
      },
      "source": [
        "Дан одномерный массив числовых значений, насчитывающий N элементов. Добавить столько элементов, чтобы элементов с положительными и отрицательными значениями стало бы поровну.\n",
        "\n",
        "Input: \n",
        "`[0, 8, -3, 2, 4 -1, 13, 24, 19]`\n",
        "\n",
        "Output:\n",
        "`[0, -1, 8, -3, 2, -1, 4, -1, 13, -1, 24, -1, 19]`"
      ]
    },
    {
      "cell_type": "code",
      "metadata": {
        "id": "so5fB2nCxR8Y",
        "colab": {
          "base_uri": "https://localhost:8080/"
        },
        "outputId": "e6a3d66b-0fa9-4568-8a34-01522db41c5a"
      },
      "source": [
        "numP = 0 #Number of positive numbers\n",
        "numN = 0 #Number of negative numbers \n",
        "lst = [0,8,-3,2,4,-1,13,24,19, -8, -9, -7, -6,-5 , -4]\n",
        "for n in lst:\n",
        "  if n>0:\n",
        "    numP +=1\n",
        "  if n<0:\n",
        "    numN +=1\n",
        "if numP>numN:\n",
        "  for i in range(numP, numN, -1):\n",
        "    lst.append(-1)\n",
        "if numN>numP:\n",
        "  for i in range(numN, numP, -1):\n",
        "    lst.append(1)\n",
        "print(lst)"
      ],
      "execution_count": null,
      "outputs": [
        {
          "output_type": "stream",
          "name": "stdout",
          "text": [
            "[0, 8, -3, 2, 4, -1, 13, 24, 19, -8, -9, -7, -6, -5, -4, 1, 1]\n"
          ]
        }
      ]
    },
    {
      "cell_type": "markdown",
      "metadata": {
        "id": "MPYJTei8xR8Z"
      },
      "source": [
        "## Task 3"
      ]
    },
    {
      "cell_type": "markdown",
      "metadata": {
        "id": "uv2U2-bbxR8Z"
      },
      "source": [
        "How to remove stop words in a text?"
      ]
    },
    {
      "cell_type": "code",
      "metadata": {
        "id": "Kq9ynfrKxR8a",
        "outputId": "e121fb41-4c0d-4545-f53c-f1e54163975f"
      },
      "source": [
        "stop_words = [\"i\", \"me\", \"my\", \"myself\", \"we\", \"our\", \"ours\", \"ourselves\", \"you\", \"your\", \"yours\", \"yourself\", \"yourselves\", \"he\", \"him\", \"his\", \"himself\", \"she\", \"her\", \"hers\", \"herself\", \"it\", \"its\", \"itself\", \"they\", \"them\", \"their\", \"theirs\", \"themselves\", \"what\", \"which\", \"who\", \"whom\", \"this\", \"that\", \"these\", \"those\", \"am\", \"is\", \"are\", \"was\", \"were\", \"be\", \"been\", \"being\", \"have\", \"has\", \"had\", \"having\", \"do\", \"does\", \"did\", \"doing\", \"a\", \"an\", \"the\", \"and\", \"but\", \"if\", \"or\", \"because\", \"as\", \"until\", \"while\", \"of\", \"at\", \"by\", \"for\", \"with\", \"about\", \"against\", \"between\", \"into\", \"through\", \"during\", \"before\", \"after\", \"above\", \"below\", \"to\", \"from\", \"up\", \"down\", \"in\", \"out\", \"on\", \"off\", \"over\", \"under\", \"again\", \"further\", \"then\", \"once\", \"here\", \"there\", \"when\", \"where\", \"why\", \"how\", \"all\", \"any\", \"both\", \"each\", \"few\", \"more\", \"most\", \"other\", \"some\", \"such\", \"no\", \"nor\", \"not\", \"only\", \"own\", \"same\", \"so\", \"than\", \"too\", \"very\", \"s\", \"t\", \"can\", \"will\", \"just\", \"don\", \"should\", \"now\"]\n",
        "text = \"\"\"i you our the outbreak of coronavirus disease 2019 ( COVID - 19 ) has created a global health crisis that has had a deep impact on the way we perceive our world and our everyday lives . Not only the rate of contagion and patterns of transmission threatens our sense of agency , but the safety measures put in place to contain the spread of the virus also require social distancing by refraining from doing what is inherently human , which is to find solace in the company of others . Within this context of physical threat , social and physical distancing , as well as public alarm , what has been ( and can be ) the role of the different mass media channels in our lives on individual , social and societal levels ? Mass media have long been recognized as powerful forces shaping how we experience the world and ourselves . This recognition is accompanied by a growing volume of research , that closely follows the footsteps of technological transformations ( e . g . radio , movies , television , the internet , mobiles ) and the zeitgeist ( e . g . cold war , 9 / 11 , climate change ) in an attempt to map mass media major impacts on how we perceive ourselves , both as individuals and citizens . Are media ( broadcast and digital ) still able to convey a sense of unity reaching large audiences , or are messages lost in the noisy crowd of mass self - communication ?\"\"\"\n",
        "tokens = text.split()\n",
        "index = 0\n",
        "filtered_tokens =[]\n",
        "y = len(stop_words)\n",
        "while index<len(tokens):\n",
        "      current_token = tokens[index]\n",
        "      if current_token not in stop_words:\n",
        "          filtered_tokens.append(current_token)\n",
        "      index +=1\n",
        "print(filtered_tokens)"
      ],
      "execution_count": null,
      "outputs": [
        {
          "name": "stdout",
          "output_type": "stream",
          "text": [
            "['outbreak', 'coronavirus', 'disease', '2019', '(', 'COVID', '-', '19', ')', 'created', 'global', 'health', 'crisis', 'deep', 'impact', 'way', 'perceive', 'world', 'everyday', 'lives', '.', 'Not', 'rate', 'contagion', 'patterns', 'transmission', 'threatens', 'sense', 'agency', ',', 'safety', 'measures', 'put', 'place', 'contain', 'spread', 'virus', 'also', 'require', 'social', 'distancing', 'refraining', 'inherently', 'human', ',', 'find', 'solace', 'company', 'others', '.', 'Within', 'context', 'physical', 'threat', ',', 'social', 'physical', 'distancing', ',', 'well', 'public', 'alarm', ',', '(', ')', 'role', 'different', 'mass', 'media', 'channels', 'lives', 'individual', ',', 'social', 'societal', 'levels', '?', 'Mass', 'media', 'long', 'recognized', 'powerful', 'forces', 'shaping', 'experience', 'world', '.', 'This', 'recognition', 'accompanied', 'growing', 'volume', 'research', ',', 'closely', 'follows', 'footsteps', 'technological', 'transformations', '(', 'e', '.', 'g', '.', 'radio', ',', 'movies', ',', 'television', ',', 'internet', ',', 'mobiles', ')', 'zeitgeist', '(', 'e', '.', 'g', '.', 'cold', 'war', ',', '9', '/', '11', ',', 'climate', 'change', ')', 'attempt', 'map', 'mass', 'media', 'major', 'impacts', 'perceive', ',', 'individuals', 'citizens', '.', 'Are', 'media', '(', 'broadcast', 'digital', ')', 'still', 'able', 'convey', 'sense', 'unity', 'reaching', 'large', 'audiences', ',', 'messages', 'lost', 'noisy', 'crowd', 'mass', 'self', '-', 'communication', '?']\n"
          ]
        }
      ]
    },
    {
      "cell_type": "code",
      "metadata": {
        "id": "oBeWs05oxR8c"
      },
      "source": [
        ""
      ],
      "execution_count": null,
      "outputs": []
    },
    {
      "cell_type": "markdown",
      "metadata": {
        "id": "Xv5waI-UxR8d"
      },
      "source": [
        "## Task 4"
      ]
    },
    {
      "cell_type": "markdown",
      "metadata": {
        "id": "KJVm1uXwxR8d"
      },
      "source": [
        "How to extract usernames from emails ?"
      ]
    },
    {
      "cell_type": "code",
      "metadata": {
        "id": "PmL1vOP3xR8e",
        "outputId": "ddf60e5d-5c26-45a5-dcc5-5ffbeca41bb9"
      },
      "source": [
        "text = \"The new registrations are potter709@gmail.com , elixir101@gmail.com . If you find any disruptions , kindly contact granger111@gamil.com or severus77@gamil.com \"\n",
        "tokens = text.split()\n",
        "index = 0\n",
        "emails = []\n",
        "while index<len(tokens):\n",
        "    start_position = tokens[index].find('@')\n",
        "    current_token = tokens[index]\n",
        "    if start_position >0:\n",
        "        parts = current_token.split('@')\n",
        "        emails.append(parts[0])\n",
        "    index +=1\n",
        "print(emails)"
      ],
      "execution_count": null,
      "outputs": [
        {
          "name": "stdout",
          "output_type": "stream",
          "text": [
            "['potter709', 'elixir101', 'granger111', 'severus77']\n"
          ]
        }
      ]
    },
    {
      "cell_type": "code",
      "metadata": {
        "id": "fAnI3obzxR8e"
      },
      "source": [
        "# use find()"
      ],
      "execution_count": null,
      "outputs": []
    },
    {
      "cell_type": "markdown",
      "metadata": {
        "id": "AYfl8P6BxR8f"
      },
      "source": [
        "\n",
        "# Цикл `For`"
      ]
    },
    {
      "cell_type": "markdown",
      "metadata": {
        "id": "Shn_bd_9xR8f"
      },
      "source": [
        "Цикл `for`, также называемый циклом с параметром, в языке Питон богат возможностями. В цикле `for` указывается переменная и множество значений, по которому будет пробегать переменная. Множество значений может быть задано списком, кортежем, строкой или диапазоном.\n",
        "\n",
        "Вот простейший пример использования цикла, где в качестве множества значений используется кортеж"
      ]
    },
    {
      "cell_type": "code",
      "metadata": {
        "id": "ilPliuQHxR8g",
        "outputId": "916c2855-8fbb-496f-82f4-baa6715f3f5e"
      },
      "source": [
        "i = 1\n",
        "for color in 'red', 'orange', 'yellow', 'green', 'cyan', 'blue', 'violet':\n",
        "    print('#', i, ' color of rainbow is ', color, sep = '')\n",
        "    i += 1"
      ],
      "execution_count": null,
      "outputs": [
        {
          "name": "stdout",
          "output_type": "stream",
          "text": [
            "#1 color of rainbow is red\n",
            "#2 color of rainbow is orange\n",
            "#3 color of rainbow is yellow\n",
            "#4 color of rainbow is green\n",
            "#5 color of rainbow is cyan\n",
            "#6 color of rainbow is blue\n",
            "#7 color of rainbow is violet\n"
          ]
        }
      ]
    },
    {
      "cell_type": "markdown",
      "metadata": {
        "id": "d6t8F76fxR8g"
      },
      "source": [
        "В этом примере переменная `color` последовательно принимает значения `'red'`, `'orange'` и т.д. В теле цикла выводится сообщение, которое содержит название цвета, то есть значение переменной color, а также номер итерации цикла  число, которое сначала равно `1`, а потом увеличивается на один (инструкцией `i += 1` с каждым проходом цикла.\n",
        "\n",
        "Инструкция `i += 1` эквивалентна конструкции `i = i + 1` (это просто сокращенная запись). Такую сокращенную запись можно использовать для всех арифметических операций: `*=`, `-=`, `/=`, `%=`...\n",
        "\n",
        "В списке значений могут быть выражения различных типов, например:\n",
        "\n"
      ]
    },
    {
      "cell_type": "code",
      "metadata": {
        "id": "f6Bg-syKxR8h",
        "outputId": "49ccc53b-55f7-4976-b794-7f6bb5861be9"
      },
      "source": [
        "for i in 1, 2, 3, 'one', 'two', 'three':\n",
        "    print(i)\n",
        "    \n",
        "for i in range(1,5):\n",
        "    print(i)\n",
        "mylist = list(range(80,16,-1))\n",
        "print(mylist)\n"
      ],
      "execution_count": null,
      "outputs": [
        {
          "name": "stdout",
          "output_type": "stream",
          "text": [
            "1\n",
            "2\n",
            "3\n",
            "one\n",
            "two\n",
            "three\n",
            "1\n",
            "2\n",
            "3\n",
            "4\n",
            "[80, 79, 78, 77, 76, 75, 74, 73, 72, 71, 70, 69, 68, 67, 66, 65, 64, 63, 62, 61, 60, 59, 58, 57, 56, 55, 54, 53, 52, 51, 50, 49, 48, 47, 46, 45, 44, 43, 42, 41, 40, 39, 38, 37, 36, 35, 34, 33, 32, 31, 30, 29, 28, 27, 26, 25, 24, 23, 22, 21, 20, 19, 18, 17]\n"
          ]
        }
      ]
    },
    {
      "cell_type": "markdown",
      "metadata": {
        "id": "33F7lZuQxR8i"
      },
      "source": [
        "# Функция `range`"
      ]
    },
    {
      "cell_type": "markdown",
      "metadata": {
        "id": "b1bjzM3oxR8i"
      },
      "source": [
        "Как правило, циклы `for` используются либо для повторения какой-либо последовательности действий заданное число раз, либо для изменения значения переменной в цикле от некоторого начального значения до некоторого конечного.\n",
        "\n",
        "Для повторения цикла некоторое заданное число раз `n` можно использовать цикл `for` вместе с функцией `range`:"
      ]
    },
    {
      "cell_type": "code",
      "metadata": {
        "id": "2eY0pdinxR8i",
        "outputId": "6eef965b-39fe-4f0f-9dad-66771038f3ee"
      },
      "source": [
        "for i in range(4):  # равносильно инструкции for i in 0, 1, 2, 3:\n",
        "    # здесь можно выполнять циклические действия\n",
        "    print(i)\n",
        "    print(i ** 2)\n",
        "# цикл закончился, поскольку закончился блок с отступом\n",
        "print('Конец цикла')"
      ],
      "execution_count": null,
      "outputs": [
        {
          "name": "stdout",
          "output_type": "stream",
          "text": [
            "0\n",
            "0\n",
            "1\n",
            "1\n",
            "2\n",
            "4\n",
            "3\n",
            "9\n",
            "Конец цикла\n"
          ]
        }
      ]
    },
    {
      "cell_type": "markdown",
      "metadata": {
        "id": "bNqI8ulbxR8j"
      },
      "source": [
        "В качестве `n` может использоваться числовая константа, переменная или произвольное арифметическое выражение (например, `2 ** 10`). Если значение `n` равно нулю или отрицательное, то тело цикла не выполнится ни разу.\n",
        "\n",
        "Функция `range` может также принимать не один, а два параметра. Вызов `range(a, b)` означает, что индексная переменная будеть принимать значения от a до `b - 1`, то есть первый параметр функции `range`, вызываемой с двумя параметрами, задает начальное значение индексной переменной, а второй параметр — первое значение, которое индексная переменная принимать не будет. Если же `a≥b`, то цикл не будет выполнен ни разу. Например, для того, чтобы просуммировать значения чисел от `1` до `n` можно воспользоваться следующей программой:"
      ]
    },
    {
      "cell_type": "code",
      "metadata": {
        "id": "1iMxmUgsxR8j",
        "outputId": "68cab70f-10ad-4b8e-883a-3fab505ce1da"
      },
      "source": [
        "sum = 0\n",
        "n = 5\n",
        "for i in range(1, n + 1):\n",
        "    sum += i\n",
        "print(sum)"
      ],
      "execution_count": null,
      "outputs": [
        {
          "name": "stdout",
          "output_type": "stream",
          "text": [
            "15\n"
          ]
        }
      ]
    },
    {
      "cell_type": "markdown",
      "metadata": {
        "id": "DUbTPfD8xR8k"
      },
      "source": [
        "В этом примере переменная `i` принимает значения `1, 2, ..., n`, и значение переменной sum последовательно увеличивается на указанные значения.\n",
        "\n",
        "Наконец, чтобы организовать цикл, в котором индексная переменная будет уменьшаться, необходимо использовать функцию `range` с тремя параметрами. Первый параметр задает начальное значение индексной переменной, второй параметр — значение, до которого будет изменяться индексная переменная (не включая его!), а третий параметр — величину изменения индексной переменной. Например, сделать цикл по всем нечетным числам от `1` до `99` можно при помощи функции `range(1, 100, 2)`, а сделать цикл по всем числам от `100` до `1` можно при помощи `range(100, 0, -1)`.\n",
        "\n",
        "Более формально, цикл for i in `range(a, b, d)` при `d > 0` задает значения индексной переменной `i = a`, `i = a + d`, `i = a + 2 * d` и так для всех значений, для которых `i < b`. Если же `d < 0`, то переменная цикла принимает все значения `i > b`.\n",
        "\n"
      ]
    },
    {
      "cell_type": "markdown",
      "metadata": {
        "id": "uBlb3rPOxR8k"
      },
      "source": [
        "## Task #5.0"
      ]
    },
    {
      "cell_type": "markdown",
      "metadata": {
        "id": "0klGMHSOxR8k"
      },
      "source": [
        "Write a program to print the following number pattern using a loop.\n",
        "\n",
        "`\n",
        "1 \n",
        "1 2 \n",
        "1 2 3 \n",
        "1 2 3 4 \n",
        "1 2 3 4 5`"
      ]
    },
    {
      "cell_type": "code",
      "metadata": {
        "id": "0-m5TvHSxR8l",
        "outputId": "385f238b-f5bf-43c1-b1c9-d7a86259faf3"
      },
      "source": [
        "for i in range(1,6):\n",
        "    for j in range(1,i+1):\n",
        "        print(j, end= ' ')\n",
        "    print('')\n",
        "print('')\n",
        "for i in range(5):\n",
        "    #print(i)\n",
        "    print(*list(range(1,i+2)), sep = '_') #  распаковка\n",
        "    \n",
        "print('')\n",
        "print('')\n",
        "l =[1,2,3]\n",
        "a,e,i = l \n",
        "print(e)"
      ],
      "execution_count": null,
      "outputs": [
        {
          "name": "stdout",
          "output_type": "stream",
          "text": [
            "1 \n",
            "1 2 \n",
            "1 2 3 \n",
            "1 2 3 4 \n",
            "1 2 3 4 5 \n",
            "\n",
            "1\n",
            "1_2\n",
            "1_2_3\n",
            "1_2_3_4\n",
            "1_2_3_4_5\n",
            "\n",
            "\n",
            "2\n"
          ]
        }
      ]
    },
    {
      "cell_type": "markdown",
      "metadata": {
        "id": "AR1xtnazxR8l"
      },
      "source": [
        "## Task #5.1"
      ]
    },
    {
      "cell_type": "markdown",
      "metadata": {
        "id": "FjLC89CzxR8l"
      },
      "source": [
        "Write a program to use for loop to print the following reverse number pattern\n",
        "\n",
        "\n",
        "`\n",
        "5 4 3 2 1 \n",
        "4 3 2 1 \n",
        "3 2 1 \n",
        "2 1 \n",
        "1`"
      ]
    },
    {
      "cell_type": "code",
      "metadata": {
        "id": "fNY6LCpmxR8m",
        "colab": {
          "base_uri": "https://localhost:8080/"
        },
        "outputId": "0b8a2d00-778f-4211-c7f9-de87abb655f1"
      },
      "source": [
        "for i in range(5,0, -1):\n",
        "    for j in range(i, 0, -1):\n",
        "        print(j, end = ' ')\n",
        "    print('')"
      ],
      "execution_count": null,
      "outputs": [
        {
          "output_type": "stream",
          "name": "stdout",
          "text": [
            "5 4 3 2 1 \n",
            "4 3 2 1 \n",
            "3 2 1 \n",
            "2 1 \n",
            "1 \n"
          ]
        }
      ]
    },
    {
      "cell_type": "markdown",
      "metadata": {
        "id": "by7GaO6MxR8m"
      },
      "source": [
        "## Task #6"
      ]
    },
    {
      "cell_type": "markdown",
      "metadata": {
        "id": "k2aSbxeoxR8m"
      },
      "source": [
        "Can you you create a list from 1300 to 700 with descending steps of 100? Is your stop value included in the list?"
      ]
    },
    {
      "cell_type": "code",
      "metadata": {
        "id": "EYlgp0dwxR8n",
        "colab": {
          "base_uri": "https://localhost:8080/"
        },
        "outputId": "f7c866e4-85bb-4934-89b6-3dc8e8156877"
      },
      "source": [
        "for i in range(1300,600, -100):\n",
        "  print(i)"
      ],
      "execution_count": null,
      "outputs": [
        {
          "output_type": "stream",
          "name": "stdout",
          "text": [
            "1300\n",
            "1200\n",
            "1100\n",
            "1000\n",
            "900\n",
            "800\n",
            "700\n"
          ]
        }
      ]
    },
    {
      "cell_type": "markdown",
      "metadata": {
        "id": "e63ek69gxR8n"
      },
      "source": [
        "# Множества (set)\n",
        "\n",
        "Мы уже знаем списки и кортежи - упорядоченные структуры, которые могут хранить в себе объекты любых типов, к которым мы можем обратиться по индексу. Теперь поговорим о стуктурах неупорядоченных - множествах и словарях. \n",
        "\n",
        "Множества хранят некоторое количество объектов, но, в отличие от списка, один объект может храниться в множестве не более одного раза. Кроме того, порядок элементов множества произволен, им нельзя управлять.\n",
        "\n",
        "Тип называется set, это же является конструктором типа, т.е. в функцию set можно передать произвольную последовательность, и из этой последовательности будет построено множество:"
      ]
    },
    {
      "cell_type": "code",
      "metadata": {
        "id": "eBwnvy3mxR8n",
        "outputId": "c2c8825e-f67a-458c-ce30-733608410372"
      },
      "source": [
        "x = set()\n",
        "type(x)"
      ],
      "execution_count": null,
      "outputs": [
        {
          "data": {
            "text/plain": [
              "set"
            ]
          },
          "execution_count": 2,
          "metadata": {},
          "output_type": "execute_result"
        }
      ]
    },
    {
      "cell_type": "code",
      "metadata": {
        "id": "BJI2xshwxR8o",
        "outputId": "83a7266c-6268-4942-b636-d80bcc940bf9"
      },
      "source": [
        "x = (4, 5, 6)\n",
        "print(set(x)) # передаем список"
      ],
      "execution_count": null,
      "outputs": [
        {
          "name": "stdout",
          "output_type": "stream",
          "text": [
            "{4, 5, 6}\n"
          ]
        }
      ]
    },
    {
      "cell_type": "code",
      "metadata": {
        "id": "s7nltQQKxR8o",
        "outputId": "5bdb41a3-ccf7-4fb5-8bc6-ecc4e39c07da"
      },
      "source": [
        "set(range(10))"
      ],
      "execution_count": null,
      "outputs": [
        {
          "data": {
            "text/plain": [
              "{0, 1, 2, 3, 4, 5, 6, 7, 8, 9}"
            ]
          },
          "execution_count": 9,
          "metadata": {},
          "output_type": "execute_result"
        }
      ]
    },
    {
      "cell_type": "code",
      "metadata": {
        "id": "m_nlSrMdxR8o",
        "outputId": "8ed37a62-aa2d-43dd-ca06-8e351ed4603d"
      },
      "source": [
        "print(set()) # передаем tuple\n",
        "print(set(range(10)))\n",
        "print(set()) # пустое множество"
      ],
      "execution_count": null,
      "outputs": [
        {
          "name": "stdout",
          "output_type": "stream",
          "text": [
            "{10, 20, 30}\n",
            "{4, 5, 6}\n",
            "{0, 1, 2, 3, 4, 5, 6, 7, 8, 9}\n",
            "set()\n"
          ]
        }
      ]
    },
    {
      "cell_type": "markdown",
      "metadata": {
        "id": "T9Ptk0ggxR8p"
      },
      "source": [
        "\n",
        "Другой способ создать множество - это перечислить его элементы в фигурных скобках (список - в квадратных, кортеж в круглых, а множество - в фигурных)"
      ]
    },
    {
      "cell_type": "code",
      "metadata": {
        "id": "WQxRzA0cxR8p",
        "outputId": "0d91ffc9-fbe8-4036-ec06-6b1c9c1d9a45"
      },
      "source": [
        "primes = {2, 3, 5, 7}\n",
        "animals = {\"cat\", \"dog\", \"horse\", 'cat'}\n",
        "\n",
        "print(primes)\n",
        "print(animals) #только уникальные значения "
      ],
      "execution_count": null,
      "outputs": [
        {
          "name": "stdout",
          "output_type": "stream",
          "text": [
            "{2, 3, 5, 7}\n",
            "{'horse', 'cat', 'dog'}\n"
          ]
        }
      ]
    },
    {
      "cell_type": "code",
      "metadata": {
        "id": "g4i6kBtixR8p",
        "outputId": "63778beb-37b5-4dc3-da48-aa4d30cbea31"
      },
      "source": [
        "x = [1,2,3,2,2,2,2,2,2,2,'dog',1]\n",
        "print(set(x))"
      ],
      "execution_count": null,
      "outputs": [
        {
          "name": "stdout",
          "output_type": "stream",
          "text": [
            "{1, 2, 3, 'dog'}\n"
          ]
        }
      ]
    },
    {
      "cell_type": "markdown",
      "metadata": {
        "id": "f9nQp1dwxR8q"
      },
      "source": [
        "Кстати, обратите внимание, что множество может состоять только из уникальных объектов. Выше множество animals включает в себя только одну кошку несмотря на то, что в конструктор мы передали 'cat' два раза. Преобразовать в список в множество - самый простой способ узнать количество уникальных объектов.\n",
        "\n",
        "Со множествами работает почти всё, что работает с последовательностями (но не работают индексы, потому что элементы не хранятся упорядоченно)."
      ]
    },
    {
      "cell_type": "code",
      "metadata": {
        "id": "Y9kXmiCkxR8q",
        "outputId": "8e6584cd-c35d-43a0-8fd8-8d7c3147a45a"
      },
      "source": [
        "print(len(primes))"
      ],
      "execution_count": null,
      "outputs": [
        {
          "name": "stdout",
          "output_type": "stream",
          "text": [
            "4\n"
          ]
        }
      ]
    },
    {
      "cell_type": "code",
      "metadata": {
        "id": "yCLMBZBGxR8q",
        "outputId": "1353c4cb-cf61-43f7-d5aa-a3de6497b487"
      },
      "source": [
        "primes = {1,11,22,34,5}\n",
        "11 in primes"
      ],
      "execution_count": null,
      "outputs": [
        {
          "data": {
            "text/plain": [
              "True"
            ]
          },
          "execution_count": 14,
          "metadata": {},
          "output_type": "execute_result"
        }
      ]
    },
    {
      "cell_type": "code",
      "metadata": {
        "id": "s1Ui6Cf3xR8r",
        "outputId": "9c389447-635c-4c7e-942e-dc82dce212fa"
      },
      "source": [
        "animals = {\"cat\", \"dog\", \"horse\", 'cat'}\n",
        "\"cow\" in animals"
      ],
      "execution_count": null,
      "outputs": [
        {
          "data": {
            "text/plain": [
              "False"
            ]
          },
          "execution_count": 15,
          "metadata": {},
          "output_type": "execute_result"
        }
      ]
    },
    {
      "cell_type": "code",
      "metadata": {
        "id": "ZSt0LGOrxR8r",
        "outputId": "11999515-9f89-40ea-d997-24aa3303d79a"
      },
      "source": [
        " # длина\n",
        "print(11 in primes) # проверка на наличие элемента in хорошо и быстро работает для множеств\n",
        "print(\"cow\" in animals)"
      ],
      "execution_count": null,
      "outputs": [
        {
          "name": "stdout",
          "output_type": "stream",
          "text": [
            "4\n",
            "False\n",
            "False\n"
          ]
        }
      ]
    },
    {
      "cell_type": "markdown",
      "metadata": {
        "id": "7eAgAqhcxR8r"
      },
      "source": [
        "Все возможные операции с множествами: https://docs.python.org/3/library/stdtypes.html#set-types-set-frozenset\n",
        "\n",
        "Отдельно мы посмотрим на так называемые операции над множествами. Если вы знаете круги Эйлера, то помните как различают объекты множеств - пересечение, объекты, которые принадлежат множеству а, но не принадлежат b и так далее. Давайте посмотрим, как эти операции реализовани в питоне."
      ]
    },
    {
      "cell_type": "markdown",
      "metadata": {
        "id": "OpA4v0gVxR8s"
      },
      "source": [
        "### круги Эйлера"
      ]
    },
    {
      "cell_type": "markdown",
      "metadata": {
        "id": "8DLGtFU0xR8s"
      },
      "source": [
        "На полке стояло 26 волшебных книг по заклинаниям, все они были прочитаны. Из них 4 прочитал и Гарри Поттер, и Рон. Гермиона прочитала 7 книг, которых не читали ни Гарри Поттер, ни Рон, и две книги, которые читал Гарри Поттер. Всего Гарри Поттер прочитал 11 книг. Сколько книг прочитал только Рон?"
      ]
    },
    {
      "cell_type": "code",
      "metadata": {
        "id": "RmokCY7CxR8s"
      },
      "source": [
        ""
      ],
      "execution_count": null,
      "outputs": []
    },
    {
      "cell_type": "code",
      "metadata": {
        "id": "MSzdK67TxR8s"
      },
      "source": [
        "a = {1, 2, 3, 4}\n",
        "b = {3, 4, 5, 6}\n",
        "c = {2, 3}"
      ],
      "execution_count": null,
      "outputs": []
    },
    {
      "cell_type": "code",
      "metadata": {
        "id": "eobKWPmixR8s",
        "outputId": "ebe1a2dd-6954-493e-95b2-ef02b6b57f39"
      },
      "source": [
        "print(c <= a)"
      ],
      "execution_count": null,
      "outputs": [
        {
          "name": "stdout",
          "output_type": "stream",
          "text": [
            "True\n"
          ]
        }
      ]
    },
    {
      "cell_type": "code",
      "metadata": {
        "id": "2mth1fTZxR8t",
        "outputId": "43c2e65b-ab59-42b9-f8d4-618c29dc3305"
      },
      "source": [
        "print(c >= a)"
      ],
      "execution_count": null,
      "outputs": [
        {
          "name": "stdout",
          "output_type": "stream",
          "text": [
            "False\n"
          ]
        }
      ]
    },
    {
      "cell_type": "code",
      "metadata": {
        "id": "ralbMk_HxR8t",
        "outputId": "7183f9a8-c341-4498-c9ab-829921a368bd"
      },
      "source": [
        "print(a | b)"
      ],
      "execution_count": null,
      "outputs": [
        {
          "name": "stdout",
          "output_type": "stream",
          "text": [
            "{1, 2, 3, 4, 5, 6}\n"
          ]
        }
      ]
    },
    {
      "cell_type": "code",
      "metadata": {
        "id": "316tktjcxR8t",
        "outputId": "c4e86a1d-4c31-41e1-c3a3-e3a14d5aa172"
      },
      "source": [
        "a = {1, 2, 3, 4}\n",
        "b = {3, 4, 5, 6}\n",
        "a.intersection(b)\n",
        "a = {1, 2, 3, 4}\n",
        "b = {3, 4, 5, 6}\n",
        "print(a & b)"
      ],
      "execution_count": null,
      "outputs": [
        {
          "name": "stdout",
          "output_type": "stream",
          "text": [
            "{3, 4}\n"
          ]
        }
      ]
    },
    {
      "cell_type": "code",
      "metadata": {
        "id": "yXbWUcasxR8u",
        "outputId": "17efbf67-73bd-4584-817f-a914f42014d4"
      },
      "source": [
        "a.union(b)"
      ],
      "execution_count": null,
      "outputs": [
        {
          "data": {
            "text/plain": [
              "{1, 2, 3, 4, 5, 6}"
            ]
          },
          "execution_count": 23,
          "metadata": {},
          "output_type": "execute_result"
        }
      ]
    },
    {
      "cell_type": "code",
      "metadata": {
        "id": "6Zuel0-exR8u",
        "outputId": "0b6bd97b-d6d6-4ecc-bc05-a76548421eea"
      },
      "source": [
        "a^b"
      ],
      "execution_count": null,
      "outputs": [
        {
          "data": {
            "text/plain": [
              "{1, 2, 5, 6}"
            ]
          },
          "execution_count": 24,
          "metadata": {},
          "output_type": "execute_result"
        }
      ]
    },
    {
      "cell_type": "code",
      "metadata": {
        "id": "pLtW4fVYxR8u",
        "outputId": "247ec8cc-7798-4d13-bc38-24df960afb51"
      },
      "source": [
        "b.difference(a)"
      ],
      "execution_count": null,
      "outputs": [
        {
          "data": {
            "text/plain": [
              "{5, 6}"
            ]
          },
          "execution_count": 113,
          "metadata": {},
          "output_type": "execute_result"
        }
      ]
    },
    {
      "cell_type": "code",
      "metadata": {
        "id": "_WqAP-nnxR8v",
        "outputId": "9ccf225b-f4a3-4680-b5be-2cb0ec697e6d"
      },
      "source": [
        "a = {1, 2, 3, 4}\n",
        "b = {3, 4, 5, 6}\n",
        "c = {2, 3}\n",
        "\n",
        " # проверка на подмножество (с подномжество a)\n",
        "print(c <= b) # не подмножество, т.к. в b нет 2 \n",
        "print(a >= c) \n",
        "print(a | b) # объединение a.union(b) aka a+b\n",
        "print(a & b) # пересечение a.intersection(b)\n",
        "print(a - b) # разность множеств (все что в a, кроме b) a.difference(b)\n",
        "print(a ^ b) # симметрическая разность множеств (объединение без пересечения) \n",
        "\n",
        "c = a.copy() # копирование множества, или set(a)\n",
        "print(c)"
      ],
      "execution_count": null,
      "outputs": [
        {
          "name": "stdout",
          "output_type": "stream",
          "text": [
            "True\n",
            "False\n",
            "True\n",
            "{1, 2, 3, 4, 5, 6}\n",
            "{1, 2, 3, 4, 5, 6}\n",
            "{3, 4}\n",
            "{1, 2}\n",
            "{1, 2, 5, 6}\n",
            "{1, 2, 3, 4}\n"
          ]
        }
      ]
    },
    {
      "cell_type": "markdown",
      "metadata": {
        "id": "Kk0kOPi_xR8v"
      },
      "source": [
        "## Task #7"
      ]
    },
    {
      "cell_type": "markdown",
      "metadata": {
        "id": "Jvd5_xTMxR8v"
      },
      "source": [
        "Write a Python program to find the elements in a given set that are not in another set."
      ]
    },
    {
      "cell_type": "code",
      "metadata": {
        "id": "H8jbsueIxR8v",
        "colab": {
          "base_uri": "https://localhost:8080/"
        },
        "outputId": "6baa427a-a601-4ab9-b472-e887dbd58fd9"
      },
      "source": [
        "a = {1,2,3,4,5,6,7,8,9}\n",
        "b = {2,4,6,8,10}\n",
        "c = a.difference(b)\n",
        "print(c)"
      ],
      "execution_count": null,
      "outputs": [
        {
          "output_type": "stream",
          "name": "stdout",
          "text": [
            "{1, 3, 5, 7, 9}\n"
          ]
        }
      ]
    },
    {
      "cell_type": "markdown",
      "metadata": {
        "id": "xEdmgLj2xR8w"
      },
      "source": [
        "## Task 8"
      ]
    },
    {
      "cell_type": "markdown",
      "metadata": {
        "id": "27HBdYdvxR8w"
      },
      "source": [
        "Write a Python program to remove the intersection of a 2nd set from the 1st set."
      ]
    },
    {
      "cell_type": "code",
      "metadata": {
        "id": "5o2jlxKQxR8w",
        "colab": {
          "base_uri": "https://localhost:8080/"
        },
        "outputId": "4d630158-80c8-484f-9626-31504fad88eb"
      },
      "source": [
        "a = {1,2,3,4}\n",
        "b = {1,2}\n",
        "c = b.intersection(a)\n",
        "a = a.difference(c)\n",
        "print(a)"
      ],
      "execution_count": 3,
      "outputs": [
        {
          "output_type": "stream",
          "name": "stdout",
          "text": [
            "{3, 4}\n"
          ]
        }
      ]
    },
    {
      "cell_type": "code",
      "metadata": {
        "id": "NNiTweWkxR8w",
        "colab": {
          "base_uri": "https://localhost:8080/"
        },
        "outputId": "35e23596-440e-4faa-9c76-534d92e64056"
      },
      "source": [
        "a = {1, 2, 3, 4}\n",
        "c = a.copy()\n",
        "c"
      ],
      "execution_count": null,
      "outputs": [
        {
          "output_type": "execute_result",
          "data": {
            "text/plain": [
              "{1, 2, 3, 4}"
            ]
          },
          "metadata": {},
          "execution_count": 21
        }
      ]
    },
    {
      "cell_type": "code",
      "metadata": {
        "id": "3pY7WkHRxR8w",
        "colab": {
          "base_uri": "https://localhost:8080/"
        },
        "outputId": "b0ee2226-de79-48ef-f982-d818f61b5c9a"
      },
      "source": [
        "print(c.issubset(a)) # c <= a \n",
        "print(c.isdisjoint(a)) # a и c не пересекаются?\n",
        "print(a.issuperset(c)) # a включает в себя с как подмножество"
      ],
      "execution_count": null,
      "outputs": [
        {
          "output_type": "stream",
          "name": "stdout",
          "text": [
            "True\n",
            "False\n",
            "True\n"
          ]
        }
      ]
    },
    {
      "cell_type": "code",
      "metadata": {
        "id": "PyYmhE2ixR8x",
        "colab": {
          "base_uri": "https://localhost:8080/"
        },
        "outputId": "b3726951-afe8-4655-a0c9-10aa2a8757d6"
      },
      "source": [
        "s = {1,2,3}\n",
        "s"
      ],
      "execution_count": null,
      "outputs": [
        {
          "output_type": "execute_result",
          "data": {
            "text/plain": [
              "{1, 2, 3}"
            ]
          },
          "metadata": {},
          "execution_count": 23
        }
      ]
    },
    {
      "cell_type": "code",
      "metadata": {
        "id": "BRHyD_LXxR8x",
        "colab": {
          "base_uri": "https://localhost:8080/"
        },
        "outputId": "6ef39e4a-c79f-4334-da89-1a46652eb6a5"
      },
      "source": [
        "s.add(10)\n",
        "s"
      ],
      "execution_count": null,
      "outputs": [
        {
          "output_type": "execute_result",
          "data": {
            "text/plain": [
              "{1, 2, 3, 10}"
            ]
          },
          "metadata": {},
          "execution_count": 24
        }
      ]
    },
    {
      "cell_type": "code",
      "metadata": {
        "id": "OyNQ-bs9xR8y",
        "colab": {
          "base_uri": "https://localhost:8080/"
        },
        "outputId": "9e053e8d-6221-4abe-e0e8-923353b1a697"
      },
      "source": [
        "s.add(10)\n",
        "s"
      ],
      "execution_count": null,
      "outputs": [
        {
          "output_type": "execute_result",
          "data": {
            "text/plain": [
              "{1, 2, 3, 10}"
            ]
          },
          "metadata": {},
          "execution_count": 25
        }
      ]
    },
    {
      "cell_type": "code",
      "metadata": {
        "id": "ciktvn3wxR8y",
        "colab": {
          "base_uri": "https://localhost:8080/"
        },
        "outputId": "86fe8d22-3a2b-4406-ec86-88db3395a030"
      },
      "source": [
        "s.discard(500)\n",
        "s"
      ],
      "execution_count": null,
      "outputs": [
        {
          "output_type": "execute_result",
          "data": {
            "text/plain": [
              "{1, 2, 3, 10}"
            ]
          },
          "metadata": {},
          "execution_count": 26
        }
      ]
    },
    {
      "cell_type": "code",
      "metadata": {
        "id": "yhTJo3XSxR8z",
        "colab": {
          "base_uri": "https://localhost:8080/"
        },
        "outputId": "2afd45e8-1292-49f0-f168-95db22e8d7bb"
      },
      "source": [
        "x = s.pop()\n",
        "print(s)\n",
        "print(x)"
      ],
      "execution_count": null,
      "outputs": [
        {
          "output_type": "stream",
          "name": "stdout",
          "text": [
            "{1, 2, 3}\n",
            "10\n"
          ]
        }
      ]
    },
    {
      "cell_type": "code",
      "metadata": {
        "id": "5BgAGJvCxR8z",
        "colab": {
          "base_uri": "https://localhost:8080/"
        },
        "outputId": "662e2572-84d8-464e-dd1e-21d4434266d9"
      },
      "source": [
        "s"
      ],
      "execution_count": null,
      "outputs": [
        {
          "output_type": "execute_result",
          "data": {
            "text/plain": [
              "{1, 2, 3}"
            ]
          },
          "metadata": {},
          "execution_count": 28
        }
      ]
    },
    {
      "cell_type": "code",
      "metadata": {
        "id": "Sbfximd4xR8z",
        "colab": {
          "base_uri": "https://localhost:8080/"
        },
        "outputId": "88ae6ba3-55d8-4021-9e13-889dc41e2f17"
      },
      "source": [
        "s.clear()\n",
        "s"
      ],
      "execution_count": null,
      "outputs": [
        {
          "output_type": "execute_result",
          "data": {
            "text/plain": [
              "set()"
            ]
          },
          "metadata": {},
          "execution_count": 29
        }
      ]
    },
    {
      "cell_type": "markdown",
      "metadata": {
        "id": "bGtlyav3xR8z"
      },
      "source": [
        "Предыдущие операции не меняли множества, создавали новые. А как менять множество:\n"
      ]
    },
    {
      "cell_type": "code",
      "metadata": {
        "id": "PVOU_p4wxR80",
        "colab": {
          "base_uri": "https://localhost:8080/"
        },
        "outputId": "f069f565-155e-46ca-880d-09fe172c1b57"
      },
      "source": [
        "s = {1, 2, 3}\n",
        "s.add(10) # добавить\n",
        "print(s) # обратите внимание, что порядок элементов непредсказуем\n",
        "s.remove(1) # удаление элемента\n",
        "s.discard(1) # аналогично, но не будет ошибки, если вдруг такого элемента нет в множестве\n",
        "print(s)\n",
        "x = s.pop() # удаляет и возвращает один произвольный элемент множества (можем сохранить его в переменную)\n",
        "print(s)\n",
        "print(x)\n",
        "s.clear() # очистить\n",
        "print(s)"
      ],
      "execution_count": null,
      "outputs": [
        {
          "output_type": "stream",
          "name": "stdout",
          "text": [
            "{10, 1, 2, 3}\n",
            "{10, 2, 3}\n",
            "{2, 3}\n",
            "10\n",
            "set()\n"
          ]
        }
      ]
    },
    {
      "cell_type": "code",
      "metadata": {
        "id": "9nj9tqYbxR80",
        "colab": {
          "base_uri": "https://localhost:8080/"
        },
        "outputId": "5e96aec7-8513-48e0-c249-d29e82938fa8"
      },
      "source": [
        "s = {1, 2}\n",
        "# s |= {10, 20}\n",
        "s = s|{10, 20}\n",
        "s"
      ],
      "execution_count": null,
      "outputs": [
        {
          "output_type": "execute_result",
          "data": {
            "text/plain": [
              "{1, 2, 10, 20}"
            ]
          },
          "metadata": {},
          "execution_count": 31
        }
      ]
    },
    {
      "cell_type": "markdown",
      "metadata": {
        "id": "G_0m1eqMxR80"
      },
      "source": [
        "Как мы сокращали арифметические операции раньше (например, +=), так же можно сокращать операции над множествами."
      ]
    },
    {
      "cell_type": "code",
      "metadata": {
        "id": "8CAJnwOsxR80",
        "colab": {
          "base_uri": "https://localhost:8080/"
        },
        "outputId": "71a0334b-4ec9-4cdf-b568-2e114b920e43"
      },
      "source": [
        "s |= {10, 20} # s = s | {10, 20} # объединение множества s с {10,20}\n",
        "print(s)\n",
        "# s ^=, s &= и т.п."
      ],
      "execution_count": null,
      "outputs": [
        {
          "output_type": "stream",
          "name": "stdout",
          "text": [
            "{1, 2, 20, 10}\n"
          ]
        }
      ]
    },
    {
      "cell_type": "markdown",
      "metadata": {
        "id": "c9zbY6hVxR81"
      },
      "source": [
        "# Словари (dict)\n",
        "Обычный массив (в питоне это список) можно понимать как функцию, которая сопоставляет начальному отрезку натурального ряда какие-то значения."
      ]
    },
    {
      "cell_type": "markdown",
      "metadata": {
        "id": "jsbBdNxZxR81"
      },
      "source": [
        "Давайте посмотрим на списки непривычным способом. Списки - это функции (отображения), которые отображают начальный ряд натуральных чисел в объекты (проще говоря - преводят число 0,1,2,3... во что-то): "
      ]
    },
    {
      "cell_type": "code",
      "metadata": {
        "id": "Sbz2sLr_xR81",
        "outputId": "709ebf43-303b-4541-d69f-f572313ce39e"
      },
      "source": [
        "l = [10, 20, 30, 'a']\n",
        "print(l[0])\n",
        "print(l[1])\n",
        "print(l[2])\n",
        "print(l[3])"
      ],
      "execution_count": null,
      "outputs": [
        {
          "name": "stdout",
          "output_type": "stream",
          "text": [
            "10\n",
            "20\n",
            "30\n",
            "a\n"
          ]
        }
      ]
    },
    {
      "cell_type": "markdown",
      "metadata": {
        "id": "BM965kN7xR81"
      },
      "source": [
        "В словарях отображать можно не только начала натурального ряда, а произвольные объекты. Представьте себе настоящий словарь или телефонную книжку. Имени человека соответствует номер телефона.\n",
        "\n",
        "Классическое использование словарей в анализе данных: хранить частоту слова в тексте.\n",
        "\n",
        "кот $\\rightarrow$ 10\n",
        "\n",
        "и $\\rightarrow$ 100\n",
        "\n",
        "Тейлора $\\rightarrow$ 2"
      ]
    },
    {
      "cell_type": "markdown",
      "metadata": {
        "id": "7RAPPGVtxR82"
      },
      "source": [
        "Словарь состоит из набора ключей и соответствующих им значений. Значения могут быть любыми объектами (также как и в списке, хранить можно произвольные объекты). А ключи могут быть почти любыми объектами, но только неизменяемыми. В частности числами, строками, кортежами. Список или множество не могут быть ключом.\n",
        "\n",
        "Одному ключу соответствует ровно одно значение. Но одно и то же значение, в принципе, можно сопоставить разным ключам."
      ]
    },
    {
      "cell_type": "code",
      "metadata": {
        "id": "R4chd1DsxR82",
        "outputId": "f82b4df8-9f51-40f6-e9fd-b8dc43af1b18"
      },
      "source": [
        "a = dict()\n",
        "type(a)"
      ],
      "execution_count": null,
      "outputs": [
        {
          "data": {
            "text/plain": [
              "dict"
            ]
          },
          "execution_count": 43,
          "metadata": {},
          "output_type": "execute_result"
        }
      ]
    },
    {
      "cell_type": "code",
      "metadata": {
        "id": "NAyBxeNzxR82",
        "outputId": "53bdc0a1-4e93-4d38-a660-33ba52277394"
      },
      "source": [
        "a['chapter1'] = 'ghfdlksgrjkasgdjkagrdjksargs'\n",
        "a"
      ],
      "execution_count": null,
      "outputs": [
        {
          "data": {
            "text/plain": [
              "{'chapter1': 'ghfdlksgrjkasgdjkagrdjksargs'}"
            ]
          },
          "execution_count": 44,
          "metadata": {},
          "output_type": "execute_result"
        }
      ]
    },
    {
      "cell_type": "code",
      "metadata": {
        "id": "YB6cARqxxR87"
      },
      "source": [
        "a[1] = 'hrjegrejk'\n"
      ],
      "execution_count": null,
      "outputs": []
    },
    {
      "cell_type": "code",
      "metadata": {
        "id": "lo3o5wuqxR87"
      },
      "source": [
        "x = (3,4,5)\n",
        "a[x] = 'hrjekwslerw'"
      ],
      "execution_count": null,
      "outputs": []
    },
    {
      "cell_type": "code",
      "metadata": {
        "id": "JnK0yw4CxR87"
      },
      "source": [
        "x = (1,2,3,'str')\n",
        "a[x] = 'fuidaslt'"
      ],
      "execution_count": null,
      "outputs": []
    },
    {
      "cell_type": "code",
      "metadata": {
        "id": "XakcQC25xR87",
        "outputId": "ff9e978d-ddf0-4f42-9c68-9f5436a7a623"
      },
      "source": [
        "a"
      ],
      "execution_count": null,
      "outputs": [
        {
          "data": {
            "text/plain": [
              "{'chapter1': 'ghfdlksgrjkasgdjkagrdjksargs',\n",
              " 1: 'hrjegrejk',\n",
              " (3, 4, 5): 'hrjekwslerw',\n",
              " (1, 2, 3, 'str'): 'fuidaslt'}"
            ]
          },
          "execution_count": 53,
          "metadata": {},
          "output_type": "execute_result"
        }
      ]
    },
    {
      "cell_type": "code",
      "metadata": {
        "id": "l4YFkYyYxR88",
        "outputId": "d2611abc-b0c1-4d9b-cbb9-d1a710539737"
      },
      "source": [
        "a = dict()\n",
        "a[(2,3)] = [2,3] # кортеж может быть ключом, потому что он неизменямый\n",
        "a\n",
        "print(a)"
      ],
      "execution_count": null,
      "outputs": [
        {
          "name": "stdout",
          "output_type": "stream",
          "text": [
            "{(2, 3): [2, 3]}\n"
          ]
        }
      ]
    },
    {
      "cell_type": "code",
      "metadata": {
        "id": "cL1OAjAfxR88",
        "outputId": "03319b55-f257-471d-f78b-d6c670ebf331"
      },
      "source": [
        "b = dict()\n",
        "b[[2,3]] = [2,3] # а список уже нет, получим ошибку\n",
        "print(b)"
      ],
      "execution_count": null,
      "outputs": [
        {
          "ename": "TypeError",
          "evalue": "unhashable type: 'list'",
          "output_type": "error",
          "traceback": [
            "\u001b[1;31m---------------------------------------------------------------------------\u001b[0m",
            "\u001b[1;31mTypeError\u001b[0m                                 Traceback (most recent call last)",
            "\u001b[1;32m<ipython-input-31-c056762b57aa>\u001b[0m in \u001b[0;36m<module>\u001b[1;34m()\u001b[0m\n\u001b[0;32m      1\u001b[0m \u001b[0mb\u001b[0m \u001b[1;33m=\u001b[0m \u001b[0mdict\u001b[0m\u001b[1;33m(\u001b[0m\u001b[1;33m)\u001b[0m\u001b[1;33m\u001b[0m\u001b[0m\n\u001b[1;32m----> 2\u001b[1;33m \u001b[0mb\u001b[0m\u001b[1;33m[\u001b[0m\u001b[1;33m[\u001b[0m\u001b[1;36m2\u001b[0m\u001b[1;33m,\u001b[0m\u001b[1;36m3\u001b[0m\u001b[1;33m]\u001b[0m\u001b[1;33m]\u001b[0m \u001b[1;33m=\u001b[0m \u001b[1;33m[\u001b[0m\u001b[1;36m2\u001b[0m\u001b[1;33m,\u001b[0m\u001b[1;36m3\u001b[0m\u001b[1;33m]\u001b[0m \u001b[1;31m# а список уже нет, получим ошибку\u001b[0m\u001b[1;33m\u001b[0m\u001b[0m\n\u001b[0m\u001b[0;32m      3\u001b[0m \u001b[0mprint\u001b[0m\u001b[1;33m(\u001b[0m\u001b[0mb\u001b[0m\u001b[1;33m)\u001b[0m\u001b[1;33m\u001b[0m\u001b[0m\n",
            "\u001b[1;31mTypeError\u001b[0m: unhashable type: 'list'"
          ]
        }
      ]
    },
    {
      "cell_type": "markdown",
      "metadata": {
        "id": "YeCZ-2LQxR88"
      },
      "source": [
        "### Создание словаря\n",
        "В фигурных скобках (как множество), через двоеточие ключ:значение"
      ]
    },
    {
      "cell_type": "code",
      "metadata": {
        "id": "n6JFX82ZxR88",
        "outputId": "bf0d4874-e402-4858-f28d-8304c721238e"
      },
      "source": [
        "d = dict()\n",
        "d"
      ],
      "execution_count": null,
      "outputs": [
        {
          "data": {
            "text/plain": [
              "{}"
            ]
          },
          "execution_count": 55,
          "metadata": {},
          "output_type": "execute_result"
        }
      ]
    },
    {
      "cell_type": "code",
      "metadata": {
        "id": "hVYnFXrCxR89",
        "outputId": "be42b6eb-f694-4e56-d5d1-0ac1185de778"
      },
      "source": [
        "d1 = {\"кот\": 10, \"и\": 100, \"Тейлора\": 2}\n",
        "print(d1)"
      ],
      "execution_count": null,
      "outputs": [
        {
          "name": "stdout",
          "output_type": "stream",
          "text": [
            "{'кот': 10, 'и': 100, 'Тейлора': 2}\n"
          ]
        }
      ]
    },
    {
      "cell_type": "code",
      "metadata": {
        "id": "AVxzxXoWxR89",
        "outputId": "5992cb8b-508a-4155-85f9-19e1bed069a6"
      },
      "source": [
        "d1[\"кот\"]"
      ],
      "execution_count": null,
      "outputs": [
        {
          "data": {
            "text/plain": [
              "10"
            ]
          },
          "execution_count": 57,
          "metadata": {},
          "output_type": "execute_result"
        }
      ]
    },
    {
      "cell_type": "markdown",
      "metadata": {
        "id": "VsZPiQquxR89"
      },
      "source": [
        "Через функцию dict(). Обратите внимание, что тогда ключ-значение задаются не через двоеточие, а через знак присваивания. А строковые ключи пишем без кавычек - по сути мы создаем переменные с такими названиями и присваиваим им значения (а потом функция dict() уже превратит их в строки)."
      ]
    },
    {
      "cell_type": "code",
      "metadata": {
        "id": "Lm3El0QaxR89",
        "outputId": "ab08f471-e298-4f6c-d0b0-ea232437edac"
      },
      "source": [
        "d2 = dict(кот=10, и=100, Тейлора=2)\n",
        "print(d2) # получили тот же результат, что выше"
      ],
      "execution_count": null,
      "outputs": [
        {
          "name": "stdout",
          "output_type": "stream",
          "text": [
            "{'кот': 10, 'и': 100, 'Тейлора': 2}\n"
          ]
        }
      ]
    },
    {
      "cell_type": "markdown",
      "metadata": {
        "id": "JgJeASJixR8-"
      },
      "source": [
        "И третий способ - передаем функции dict() список списков или кортежей с парами ключ-значение."
      ]
    },
    {
      "cell_type": "code",
      "metadata": {
        "id": "Voj15LTExR8-",
        "outputId": "b425bce0-890d-40e1-cd1b-02ebe4c263b9"
      },
      "source": [
        "d3 = dict([(\"кот\", 10), (\"и\", 100), (\"Тейлора\", 2)]) # перечисление (например, список) tuple\n",
        "print(d3)"
      ],
      "execution_count": null,
      "outputs": [
        {
          "name": "stdout",
          "output_type": "stream",
          "text": [
            "{'кот': 10, 'и': 100, 'Тейлора': 2}\n"
          ]
        }
      ]
    },
    {
      "cell_type": "markdown",
      "metadata": {
        "id": "tXdykPzAxR8-"
      },
      "source": [
        "Помните, когда мы говорили про списки, мы обсуждали проблему того, что важно создавать именно копию объекта, чтобы сохранять исходный список. Копию словаря можно сделать так"
      ]
    },
    {
      "cell_type": "code",
      "metadata": {
        "id": "ZDVevOFXxR8-",
        "outputId": "d4cfa293-67cd-4a4e-b4c6-af5ab2d99be0"
      },
      "source": [
        "d4 = dict(d3) # фактически, копируем dict который строчкой выше\n",
        "print(d4)"
      ],
      "execution_count": null,
      "outputs": [
        {
          "name": "stdout",
          "output_type": "stream",
          "text": [
            "{'кот': 10, 'и': 100, 'Тейлора': 2}\n"
          ]
        }
      ]
    },
    {
      "cell_type": "code",
      "metadata": {
        "id": "nyMPIbHRxR9A",
        "outputId": "8cd871bb-2e4c-4588-a1d3-4f2c27de8603"
      },
      "source": [
        "d1 == d2 == d3 == d4 # Содержание всех словарей одинаковое"
      ],
      "execution_count": null,
      "outputs": [
        {
          "data": {
            "text/plain": [
              "True"
            ]
          },
          "execution_count": 62,
          "metadata": {},
          "output_type": "execute_result"
        }
      ]
    },
    {
      "cell_type": "markdown",
      "metadata": {
        "id": "k6lEVIZExR9B"
      },
      "source": [
        "Пустой словарь можно создать двумя способами."
      ]
    },
    {
      "cell_type": "code",
      "metadata": {
        "id": "di1VBuuixR9B",
        "outputId": "34f83565-7ad2-4bcc-e2f5-a159ed3edecf"
      },
      "source": [
        "d2 = {} # это пустой словарь (но не пустое множество)\n",
        "d4 = dict()\n",
        "print(d2, d4)"
      ],
      "execution_count": null,
      "outputs": [
        {
          "name": "stdout",
          "output_type": "stream",
          "text": [
            "{} {}\n"
          ]
        }
      ]
    },
    {
      "cell_type": "code",
      "metadata": {
        "id": "ZNcp1oV4xR9B",
        "outputId": "62b66506-56a8-4b21-b7a0-e58a3c78067c"
      },
      "source": [
        "x = {}\n",
        "type(x)"
      ],
      "execution_count": null,
      "outputs": [
        {
          "data": {
            "text/plain": [
              "dict"
            ]
          },
          "execution_count": 64,
          "metadata": {},
          "output_type": "execute_result"
        }
      ]
    },
    {
      "cell_type": "markdown",
      "metadata": {
        "id": "yO8zxA5DxR9C"
      },
      "source": [
        "## Task #9"
      ]
    },
    {
      "cell_type": "markdown",
      "metadata": {
        "id": "NCmDqYdBxR9C"
      },
      "source": [
        "Access the value of key ‘history’ from the below"
      ]
    },
    {
      "cell_type": "code",
      "metadata": {
        "id": "VXQxZpQfxR9C",
        "colab": {
          "base_uri": "https://localhost:8080/"
        },
        "outputId": "d43562b8-80dd-4878-fb95-2f900cc7c1fd"
      },
      "source": [
        "sampleDict = { \n",
        "   \"class\":{ \n",
        "      \"student\":{ \n",
        "         \"name\":\"Mike\",\n",
        "         \"marks\":{ \n",
        "            \"physics\":70,\n",
        "            \"history\":80\n",
        "         }\n",
        "      }\n",
        "   }\n",
        "}\n",
        "print(sampleDict['class']['student']['marks']['history'])"
      ],
      "execution_count": 8,
      "outputs": [
        {
          "output_type": "stream",
          "name": "stdout",
          "text": [
            "80\n"
          ]
        }
      ]
    },
    {
      "cell_type": "markdown",
      "metadata": {
        "id": "cliuCt1rxR9D"
      },
      "source": [
        "## Task #10"
      ]
    },
    {
      "cell_type": "markdown",
      "metadata": {
        "id": "gX1mM5BXxR9D"
      },
      "source": [
        "Write a Python program to convert a tuple to a dictionary.\n",
        "\n",
        "Input: `[(0, 1), (1, 2), (2, 3)]`\n",
        "\n",
        "Output: `{0: 1, 1: 2, 2: 3}`"
      ]
    },
    {
      "cell_type": "code",
      "metadata": {
        "colab": {
          "base_uri": "https://localhost:8080/"
        },
        "id": "2NqrBMygK6wr",
        "outputId": "a70f866f-c42c-415f-f25e-a4a74e2197b5"
      },
      "source": [
        "lst = [(0,1),(1,2), (2,3)]\n",
        "mydict = {}\n",
        "for i in range(len(lst)):\n",
        "  mydict[lst[i][0]]=lst[i][1]\n",
        "print(mydict)"
      ],
      "execution_count": 10,
      "outputs": [
        {
          "output_type": "stream",
          "name": "stdout",
          "text": [
            "{0: 1, 1: 2, 2: 3}\n"
          ]
        }
      ]
    },
    {
      "cell_type": "markdown",
      "metadata": {
        "id": "W3rvbOfLxR9E"
      },
      "source": [
        "## Task 11"
      ]
    },
    {
      "cell_type": "markdown",
      "metadata": {
        "id": "iHUEzqvvxR9E"
      },
      "source": [
        "Delete set of keys from a dictionary"
      ]
    },
    {
      "cell_type": "code",
      "metadata": {
        "id": "OUcJIZZ3xR9E",
        "colab": {
          "base_uri": "https://localhost:8080/"
        },
        "outputId": "c1494e0b-b721-487a-8ec9-be63c5164676"
      },
      "source": [
        "sampleDict = {\n",
        "  \"name\": \"Kelly\",\n",
        "  \"age\":25,\n",
        "  \"salary\": 8000,\n",
        "  \"city\": \"New york\"\n",
        "  \n",
        "}\n",
        "keysToRemove = [\"name\", \"salary\"]\n",
        "for i in range(len(keysToRemove)):\n",
        "  sampleDict.pop(keysToRemove[i])\n",
        "print(sampleDict)"
      ],
      "execution_count": 16,
      "outputs": [
        {
          "output_type": "stream",
          "name": "stdout",
          "text": [
            "{'age': 25, 'city': 'New york'}\n"
          ]
        }
      ]
    },
    {
      "cell_type": "code",
      "metadata": {
        "id": "3Nhy5P5QxR9F"
      },
      "source": [
        ""
      ],
      "execution_count": 11,
      "outputs": []
    },
    {
      "cell_type": "markdown",
      "metadata": {
        "id": "BF2AnkZXxR9F"
      },
      "source": [
        "### Операции со словарями"
      ]
    },
    {
      "cell_type": "markdown",
      "metadata": {
        "id": "eQ1Y2wi4xR9F"
      },
      "source": [
        "Как мы уже говорили, словари неупорядоченные структуры и обратиться по индексу к объекту уже больше не удастся."
      ]
    },
    {
      "cell_type": "code",
      "metadata": {
        "id": "1mb1ME2cxR9G",
        "colab": {
          "base_uri": "https://localhost:8080/",
          "height": 166
        },
        "outputId": "1815068f-1aa1-4765-e6d9-4fddf1883601"
      },
      "source": [
        "d1[1] # выдаст ошибку во всех случах кроме того, если в вашем словаре вдруг есть ключ 1"
      ],
      "execution_count": 12,
      "outputs": [
        {
          "output_type": "error",
          "ename": "NameError",
          "evalue": "ignored",
          "traceback": [
            "\u001b[0;31m---------------------------------------------------------------------------\u001b[0m",
            "\u001b[0;31mNameError\u001b[0m                                 Traceback (most recent call last)",
            "\u001b[0;32m<ipython-input-12-627b04325301>\u001b[0m in \u001b[0;36m<module>\u001b[0;34m()\u001b[0m\n\u001b[0;32m----> 1\u001b[0;31m \u001b[0md1\u001b[0m\u001b[0;34m[\u001b[0m\u001b[0;36m1\u001b[0m\u001b[0;34m]\u001b[0m \u001b[0;31m# выдаст ошибку во всех случах кроме того, если в вашем словаре вдруг есть ключ 1\u001b[0m\u001b[0;34m\u001b[0m\u001b[0;34m\u001b[0m\u001b[0m\n\u001b[0m",
            "\u001b[0;31mNameError\u001b[0m: name 'd1' is not defined"
          ]
        }
      ]
    },
    {
      "cell_type": "markdown",
      "metadata": {
        "id": "zX_2RqNaxR9G"
      },
      "source": [
        "Но можно обращаться к значению по ключу."
      ]
    },
    {
      "cell_type": "code",
      "metadata": {
        "id": "Cd_jIK9kxR9G"
      },
      "source": [
        "d3 = dict([(\"кот\", 10), (\"и\", 100), (\"Тейлора\", 2)])\n",
        "print(d1['кот'])"
      ],
      "execution_count": null,
      "outputs": []
    },
    {
      "cell_type": "code",
      "metadata": {
        "id": "CQKYeTMMxR9H"
      },
      "source": [
        "d1[1]"
      ],
      "execution_count": null,
      "outputs": []
    },
    {
      "cell_type": "markdown",
      "metadata": {
        "id": "JYy3swCExR9H"
      },
      "source": [
        "Можно создать новую пару ключ-значение. Для этого просто указываем в квадратных скобках название нового ключа."
      ]
    },
    {
      "cell_type": "code",
      "metadata": {
        "id": "RNnR2sYPxR9H"
      },
      "source": [
        "d1[1] = 'test'\n",
        "print(d1[1]) # теперь работает!"
      ],
      "execution_count": null,
      "outputs": []
    },
    {
      "cell_type": "markdown",
      "metadata": {
        "id": "1pixvs-axR9I"
      },
      "source": [
        "Внимание: если элемент с указанным ключом уже существует, новый с таким же ключом не добавится! Ключ – это уникальный идентификатор элемента. Если мы добавим в словарь новый элемент с уже существующим ключом, мы просто изменим старый – словари являются изменяемыми объектами. "
      ]
    },
    {
      "cell_type": "code",
      "metadata": {
        "id": "b7gItfRhxR9I"
      },
      "source": [
        "d3 = dict([(\"кот\", 10), (\"и\", 100), (\"Тейлора\", 2)])\n",
        "d1[\"кот\"] = 11 # так же как в списке по индексу - можно присвоить новое значение по ключу\n",
        "d1"
      ],
      "execution_count": null,
      "outputs": []
    },
    {
      "cell_type": "code",
      "metadata": {
        "id": "eA-peSKwxR9I"
      },
      "source": [
        "d1[\"кот\"] += 1 # или даже изменить его за счет арифметической операции\n",
        "d1"
      ],
      "execution_count": null,
      "outputs": []
    },
    {
      "cell_type": "markdown",
      "metadata": {
        "id": "IP2UA6AixR9J"
      },
      "source": [
        "А вот одинаковые значения в словаре могут быть."
      ]
    },
    {
      "cell_type": "code",
      "metadata": {
        "id": "ZBeTLZM4xR9J"
      },
      "source": [
        "d1['собака'] = 13\n",
        "print(d1)"
      ],
      "execution_count": null,
      "outputs": []
    },
    {
      "cell_type": "markdown",
      "metadata": {
        "id": "liJDj3nZxR9J"
      },
      "source": [
        "## Task 12"
      ]
    },
    {
      "cell_type": "markdown",
      "metadata": {
        "id": "QVkCaMASxR9J"
      },
      "source": [
        "Count frequency for each word in a given text"
      ]
    },
    {
      "cell_type": "code",
      "metadata": {
        "id": "6sLI3p3dxR9K",
        "colab": {
          "base_uri": "https://localhost:8080/"
        },
        "outputId": "d22346f8-d9c3-4360-e81d-c0c0b65c2043"
      },
      "source": [
        "text = \"\"\"the outbreak of coronavirus disease 2019 ( COVID - 19 ) has created a global health crisis that has had a deep impact on the way we perceive our world and our everyday lives . Not only the rate of contagion and patterns of transmission threatens our sense of agency , but the safety measures put in place to contain the spread of the virus also require social distancing by refraining from doing what is inherently human , which is to find solace in the company of others . Within this context of physical threat , social and physical distancing , as well as public alarm , what has been ( and can be ) the role of the different mass media channels in our lives on individual , social and societal levels ? Mass media have long been recognized as powerful forces shaping how we experience the world and ourselves . This recognition is accompanied by a growing volume of research , that closely follows the footsteps of technological transformations ( e . g . radio , movies , television , the internet , mobiles ) and the zeitgeist ( e . g . cold war , 9 / 11 , climate change ) in an attempt to map mass media major impacts on how we perceive ourselves , both as individuals and citizens . Are media ( broadcast and digital ) still able to convey a sense of unity reaching large audiences , or are messages lost in the noisy crowd of mass self - communication ?\"\"\"\n",
        "words = text.split()\n",
        "wordFrequency = {}\n",
        "for word in words:\n",
        "  if word in wordFrequency:\n",
        "    wordFrequency[word] +=1\n",
        "  else:\n",
        "    wordFrequency[word]=1\n",
        "print(wordFrequency)"
      ],
      "execution_count": 20,
      "outputs": [
        {
          "output_type": "stream",
          "name": "stdout",
          "text": [
            "{'the': 14, 'outbreak': 1, 'of': 12, 'coronavirus': 1, 'disease': 1, '2019': 1, '(': 5, 'COVID': 1, '-': 2, '19': 1, ')': 5, 'has': 3, 'created': 1, 'a': 4, 'global': 1, 'health': 1, 'crisis': 1, 'that': 2, 'had': 1, 'deep': 1, 'impact': 1, 'on': 3, 'way': 1, 'we': 3, 'perceive': 2, 'our': 4, 'world': 2, 'and': 9, 'everyday': 1, 'lives': 2, '.': 8, 'Not': 1, 'only': 1, 'rate': 1, 'contagion': 1, 'patterns': 1, 'transmission': 1, 'threatens': 1, 'sense': 2, 'agency': 1, ',': 15, 'but': 1, 'safety': 1, 'measures': 1, 'put': 1, 'in': 5, 'place': 1, 'to': 4, 'contain': 1, 'spread': 1, 'virus': 1, 'also': 1, 'require': 1, 'social': 3, 'distancing': 2, 'by': 2, 'refraining': 1, 'from': 1, 'doing': 1, 'what': 2, 'is': 3, 'inherently': 1, 'human': 1, 'which': 1, 'find': 1, 'solace': 1, 'company': 1, 'others': 1, 'Within': 1, 'this': 1, 'context': 1, 'physical': 2, 'threat': 1, 'as': 4, 'well': 1, 'public': 1, 'alarm': 1, 'been': 2, 'can': 1, 'be': 1, 'role': 1, 'different': 1, 'mass': 3, 'media': 4, 'channels': 1, 'individual': 1, 'societal': 1, 'levels': 1, '?': 2, 'Mass': 1, 'have': 1, 'long': 1, 'recognized': 1, 'powerful': 1, 'forces': 1, 'shaping': 1, 'how': 2, 'experience': 1, 'ourselves': 2, 'This': 1, 'recognition': 1, 'accompanied': 1, 'growing': 1, 'volume': 1, 'research': 1, 'closely': 1, 'follows': 1, 'footsteps': 1, 'technological': 1, 'transformations': 1, 'e': 2, 'g': 2, 'radio': 1, 'movies': 1, 'television': 1, 'internet': 1, 'mobiles': 1, 'zeitgeist': 1, 'cold': 1, 'war': 1, '9': 1, '/': 1, '11': 1, 'climate': 1, 'change': 1, 'an': 1, 'attempt': 1, 'map': 1, 'major': 1, 'impacts': 1, 'both': 1, 'individuals': 1, 'citizens': 1, 'Are': 1, 'broadcast': 1, 'digital': 1, 'still': 1, 'able': 1, 'convey': 1, 'unity': 1, 'reaching': 1, 'large': 1, 'audiences': 1, 'or': 1, 'are': 1, 'messages': 1, 'lost': 1, 'noisy': 1, 'crowd': 1, 'self': 1, 'communication': 1}\n"
          ]
        }
      ]
    },
    {
      "cell_type": "code",
      "metadata": {
        "id": "ej30Tof-xR9K",
        "colab": {
          "base_uri": "https://localhost:8080/",
          "height": 166
        },
        "outputId": "612be7c2-9902-4f6d-d8b3-a548746815ea"
      },
      "source": [
        ""
      ],
      "execution_count": 17,
      "outputs": [
        {
          "output_type": "error",
          "ename": "NameError",
          "evalue": "ignored",
          "traceback": [
            "\u001b[0;31m---------------------------------------------------------------------------\u001b[0m",
            "\u001b[0;31mNameError\u001b[0m                                 Traceback (most recent call last)",
            "\u001b[0;32m<ipython-input-17-18af48ee7438>\u001b[0m in \u001b[0;36m<module>\u001b[0;34m()\u001b[0m\n\u001b[0;32m----> 1\u001b[0;31m \u001b[0mwords\u001b[0m \u001b[0;34m=\u001b[0m \u001b[0mtext\u001b[0m\u001b[0;34m.\u001b[0m\u001b[0msplit\u001b[0m\u001b[0;34m(\u001b[0m\u001b[0;34m)\u001b[0m\u001b[0;34m\u001b[0m\u001b[0;34m\u001b[0m\u001b[0m\n\u001b[0m",
            "\u001b[0;31mNameError\u001b[0m: name 'text' is not defined"
          ]
        }
      ]
    },
    {
      "cell_type": "markdown",
      "metadata": {
        "id": "1l0FbPpMxR9K"
      },
      "source": [
        "Кроме обращения по ключу, можно достать значение с помощью метода .get(). Отличие работы метода в том, что если ключа еще нет в словаре, он не генерирует ошибку, а возвращает объект типа None (\"ничего\"). Это очень полезно в решении некоторых задач. "
      ]
    },
    {
      "cell_type": "code",
      "metadata": {
        "id": "591xIDFQxR9K",
        "outputId": "fdf13e39-15d6-479b-8f33-3dc12550684e"
      },
      "source": [
        "d1"
      ],
      "execution_count": null,
      "outputs": [
        {
          "data": {
            "text/plain": [
              "{'кот': 13, 'и': 100, 'Тейлора': 2, 1: 'test', 'собака': 13}"
            ]
          },
          "execution_count": 73,
          "metadata": {},
          "output_type": "execute_result"
        }
      ]
    },
    {
      "cell_type": "code",
      "metadata": {
        "id": "Cl65OOTPxR9K"
      },
      "source": [
        "print(d1['кот'])"
      ],
      "execution_count": null,
      "outputs": []
    },
    {
      "cell_type": "code",
      "metadata": {
        "id": "f09PV-l8xR9K",
        "outputId": "06e9ef65-a6ae-4081-e3cc-4d34d540d5c3"
      },
      "source": [
        "print(d1.get(\"ктоо\")) # вернут None\n"
      ],
      "execution_count": null,
      "outputs": [
        {
          "name": "stdout",
          "output_type": "stream",
          "text": [
            "None\n"
          ]
        }
      ]
    },
    {
      "cell_type": "markdown",
      "metadata": {
        "id": "_eGbdHz-xR9K"
      },
      "source": [
        "Удобство метода .get() заключается в том, что мы сами можем установить, какое значение будет возвращено, в случае, если пары с выбранным ключом нет в словаре. Так, вместо None мы можем вернуть строку Not found, и ломаться ничего не будет:"
      ]
    },
    {
      "cell_type": "code",
      "metadata": {
        "id": "6dm5Sk14xR9L",
        "outputId": "0718e405-4f97-4cf5-92ed-fb26c498d932"
      },
      "source": [
        "print(d1.get(\"ктоо\", 'Not found')) # передаем вторым аргументом, что возвращать\n",
        "print(d1.get(\"ктоо\", False)) # передаем вторым аргументом, что возвращать"
      ],
      "execution_count": null,
      "outputs": [
        {
          "name": "stdout",
          "output_type": "stream",
          "text": [
            "Not found\n",
            "False\n"
          ]
        }
      ]
    },
    {
      "cell_type": "markdown",
      "metadata": {
        "id": "CzFKHB_mxR9L"
      },
      "source": [
        "Также со словарями работают уже знакомые нам операции - проверка количества элементов, проверка на наличие объектов."
      ]
    },
    {
      "cell_type": "code",
      "metadata": {
        "id": "fkMqPfMbxR9L"
      },
      "source": [
        "d1"
      ],
      "execution_count": null,
      "outputs": []
    },
    {
      "cell_type": "code",
      "metadata": {
        "id": "F9FiNIoZxR9L",
        "outputId": "430a01fb-57d4-4600-9dda-00e2cf3831ae"
      },
      "source": [
        "print(d1)\n",
        "print(\"кот\" in d1) # проверка на наличие ключа\n",
        "print(\"ктоо\" not in d1) # проверка на отстуствие ключа\n"
      ],
      "execution_count": null,
      "outputs": [
        {
          "name": "stdout",
          "output_type": "stream",
          "text": [
            "{'кот': 13, 'и': 100, 'Тейлора': 2, 1: 'test', 'собака': 13}\n",
            "True\n",
            "True\n"
          ]
        }
      ]
    },
    {
      "cell_type": "markdown",
      "metadata": {
        "id": "tJLxakEKxR9L"
      },
      "source": [
        "Удалить отдельный ключ или же очистить весь словарь можно специальными операциями."
      ]
    },
    {
      "cell_type": "code",
      "metadata": {
        "id": "BVghbI9lxR9L"
      },
      "source": [
        "del d1[\"кот\"]"
      ],
      "execution_count": null,
      "outputs": []
    },
    {
      "cell_type": "code",
      "metadata": {
        "id": "9PEqjNlhxR9L",
        "outputId": "d475c953-21dc-4530-a970-15a847155c56"
      },
      "source": [
        "d1"
      ],
      "execution_count": null,
      "outputs": [
        {
          "data": {
            "text/plain": [
              "{'и': 100, 'Тейлора': 2, 1: 'test', 'собака': 13}"
            ]
          },
          "execution_count": 78,
          "metadata": {},
          "output_type": "execute_result"
        }
      ]
    },
    {
      "cell_type": "code",
      "metadata": {
        "id": "YL1JW_f0xR9M",
        "outputId": "6ce6f8b7-036f-449f-c46b-64118df2b714"
      },
      "source": [
        "d1.clear()\n",
        "d1"
      ],
      "execution_count": null,
      "outputs": [
        {
          "data": {
            "text/plain": [
              "{}"
            ]
          },
          "execution_count": 79,
          "metadata": {},
          "output_type": "execute_result"
        }
      ]
    },
    {
      "cell_type": "code",
      "metadata": {
        "id": "k6m3DW0ixR9M",
        "outputId": "318f2f7c-d14c-4b49-fe98-107a72499826"
      },
      "source": [
        "del d1[\"кот\"] # удалить ключ со своим значением\n",
        "print(d1)\n",
        "d1.clear() # удалить все\n",
        "print(d1)"
      ],
      "execution_count": null,
      "outputs": [
        {
          "name": "stdout",
          "output_type": "stream",
          "text": [
            "{'и': 100, 'Тейлора': 2, 1: 'test'}\n",
            "{}\n"
          ]
        }
      ]
    },
    {
      "cell_type": "code",
      "metadata": {
        "id": "1U6NwcDVxR9M"
      },
      "source": [
        "d1 = dict([(\"кот\", 10), (\"и\", 10), (\"Тейлора\", 2)])"
      ],
      "execution_count": null,
      "outputs": []
    },
    {
      "cell_type": "markdown",
      "metadata": {
        "id": "kQkbKNpixR9M"
      },
      "source": [
        "У словарей есть три метода, с помощью которых мы можем сгенерировать список только ключей, только значений и список пар ключ-значения (на самом деле там несколько другая структура, но ведет себя она очень похоже на список)."
      ]
    },
    {
      "cell_type": "code",
      "metadata": {
        "id": "hfvu-IxUxR9M",
        "outputId": "fd535542-b165-426d-a884-bd0ba0e64ad2"
      },
      "source": [
        "print(d1.values()) # только значения\n",
        "print(d1.keys()) # только ключи\n",
        "print(d1.items()) # только ключ-значение"
      ],
      "execution_count": null,
      "outputs": [
        {
          "name": "stdout",
          "output_type": "stream",
          "text": [
            "dict_values([10, 10, 2])\n",
            "dict_keys(['кот', 'и', 'Тейлора'])\n",
            "dict_items([('кот', 10), ('и', 10), ('Тейлора', 2)])\n"
          ]
        }
      ]
    },
    {
      "cell_type": "markdown",
      "metadata": {
        "id": "qdSf8StGxR9M"
      },
      "source": [
        "Ну, и раз уж питоновские словари так похожи на обычные, давайте представим, что у нас есть словарь, где все слова многозначные. Ключом будет слово, а значением ‒ целый список. "
      ]
    },
    {
      "cell_type": "code",
      "metadata": {
        "id": "8evM21y4xR9N"
      },
      "source": [
        "my_dict = {'swear' : {'swear' : ['клясться', 'ругаться'], 'dream' : ['спать', 'мечтать']}, 'dream' : ['спать', 'мечтать']}"
      ],
      "execution_count": null,
      "outputs": []
    },
    {
      "cell_type": "markdown",
      "metadata": {
        "id": "VmkoSP0JxR9N"
      },
      "source": [
        "По ключу мы получим значение в виде списка:"
      ]
    },
    {
      "cell_type": "code",
      "metadata": {
        "id": "d0B-P0_yxR9N",
        "outputId": "b2072c1f-dd3c-409f-8de8-5619d06fa9eb"
      },
      "source": [
        "my_dict['swear']['swear'][0]"
      ],
      "execution_count": null,
      "outputs": [
        {
          "data": {
            "text/plain": [
              "'клясться'"
            ]
          },
          "execution_count": 91,
          "metadata": {},
          "output_type": "execute_result"
        }
      ]
    },
    {
      "cell_type": "markdown",
      "metadata": {
        "id": "MwP32yMIxR9N"
      },
      "source": [
        "Так как значением является список, можем отдельно обращаться к его элементам:"
      ]
    },
    {
      "cell_type": "code",
      "metadata": {
        "id": "scCjA28UxR9N",
        "outputId": "bc882e53-83e6-46a1-e96b-710b4942e0ce"
      },
      "source": [
        "my_dict['swear'][0] # первый элемент"
      ],
      "execution_count": null,
      "outputs": [
        {
          "data": {
            "text/plain": [
              "'клясться'"
            ]
          },
          "execution_count": 27,
          "metadata": {},
          "output_type": "execute_result"
        }
      ]
    },
    {
      "cell_type": "markdown",
      "metadata": {
        "id": "_3YEIJYJxR9N"
      },
      "source": [
        "Можем пойти дальше и создать словарь, где значениями являются словари! Например, представим, что в некотором сообществе проходят выборы, и каждый участник может проголосовать за любое число кандидатов. Данные сохраняются в виде словаря, где ключами являются имена пользователей, а значениями – пары *кандидат-голос*."
      ]
    },
    {
      "cell_type": "code",
      "metadata": {
        "id": "eavLNigCxR9O"
      },
      "source": [
        "votes = {'user1': {'cand1': '+', 'cand2': '-'},\n",
        "         'user2' : {'cand1': 0, 'cand3' : '+'}} # '+' - за, '-' - против, 0 - воздержался"
      ],
      "execution_count": null,
      "outputs": []
    },
    {
      "cell_type": "code",
      "metadata": {
        "id": "RVtxwCxPxR9O",
        "outputId": "0686d0e9-6c25-4d91-d2c2-569cbc80a0a7"
      },
      "source": [
        "votes"
      ],
      "execution_count": null,
      "outputs": [
        {
          "data": {
            "text/plain": [
              "{'user1': {'cand1': '+', 'cand2': '-'}, 'user2': {'cand1': 0, 'cand3': '+'}}"
            ]
          },
          "execution_count": 29,
          "metadata": {},
          "output_type": "execute_result"
        }
      ]
    },
    {
      "cell_type": "markdown",
      "metadata": {
        "id": "_9ec6SmFxR9O"
      },
      "source": [
        "По аналогии с вложенными списками по ключам мы сможем обратиться к значению в словаре, который сам является значением в `votes` (да, эту фразу нужно осмыслить):"
      ]
    },
    {
      "cell_type": "code",
      "metadata": {
        "id": "PiU0_a2UxR9P",
        "outputId": "b0987a2d-9426-47a7-ac91-bbb953eb43a5"
      },
      "source": [
        "votes['user1']['cand1'] # берем значение, соответствующее ключу user1, в нем – ключу cand1"
      ],
      "execution_count": null,
      "outputs": [
        {
          "data": {
            "text/plain": [
              "'+'"
            ]
          },
          "execution_count": 30,
          "metadata": {},
          "output_type": "execute_result"
        }
      ]
    },
    {
      "cell_type": "code",
      "metadata": {
        "id": "xE3_Pc1HxR9P",
        "outputId": "55e27a61-defa-4625-c378-7bebd9ec4d2e"
      },
      "source": [
        "dict1 = {'a': 1, 'b': 2}\n",
        "dict2 = {'c': 3, 'd': 4}\n",
        "dict3 = dict1.copy()\n",
        "dict3.update(dict2)\n",
        "print(dict3)"
      ],
      "execution_count": null,
      "outputs": [
        {
          "name": "stdout",
          "output_type": "stream",
          "text": [
            "{'a': 1, 'b': 2, 'c': 3, 'd': 4}\n"
          ]
        }
      ]
    },
    {
      "cell_type": "code",
      "metadata": {
        "id": "gWapgnXyxR9Q",
        "outputId": "fe843f48-9a43-4cdf-cc6a-eff222602f6d"
      },
      "source": [
        "dict1 = {'a': 1, 'b': 2}\n",
        "dict2 = {'c': 3, 'd': 4}\n",
        "dict3 = {**dict1, **dict2}\n",
        "print(dict3) "
      ],
      "execution_count": null,
      "outputs": [
        {
          "name": "stdout",
          "output_type": "stream",
          "text": [
            "{'a': 1, 'b': 2, 'c': 3, 'd': 4}\n"
          ]
        }
      ]
    },
    {
      "cell_type": "markdown",
      "metadata": {
        "id": "iJWVX2D4xR9Q"
      },
      "source": [
        "Через занятие мы с вами начнем работать с условными операторами и циклом for, и тогда мы поговорим об особенностях обращения к значениям в цикле и сортировок словарей."
      ]
    },
    {
      "cell_type": "markdown",
      "metadata": {
        "id": "mwCTeuazxR9Q"
      },
      "source": [
        "# Home tasks"
      ]
    },
    {
      "cell_type": "markdown",
      "metadata": {
        "id": "WxeBcx56xR9Q"
      },
      "source": [
        "## Task #1"
      ]
    },
    {
      "cell_type": "markdown",
      "metadata": {
        "id": "_EiEV_AUxR9R"
      },
      "source": [
        "Write a program to use the loop to find the factorial of a given number.\n",
        "\n",
        "The factorial (symbol: `!`) means to multiply all whole numbers from the chosen number down to `1`.\n",
        "\n",
        "For example: calculate the factorial of `5`\n",
        "\n",
        "`5! = 5 × 4 × 3 × 2 × 1 = 120`"
      ]
    },
    {
      "cell_type": "code",
      "metadata": {
        "colab": {
          "base_uri": "https://localhost:8080/"
        },
        "id": "q1zdchhiNwLe",
        "outputId": "8cc58fd4-eb28-4873-93c4-fb6207e8dae6"
      },
      "source": [
        "number = 6\n",
        "answer = 1\n",
        "for i in range(1, number+1):\n",
        "  answer *= i\n",
        "print(answer)"
      ],
      "execution_count": 24,
      "outputs": [
        {
          "output_type": "stream",
          "name": "stdout",
          "text": [
            "720\n"
          ]
        }
      ]
    },
    {
      "cell_type": "markdown",
      "metadata": {
        "id": "ZKwjOTb3xR9R"
      },
      "source": [
        "## Task #2"
      ]
    },
    {
      "cell_type": "markdown",
      "metadata": {
        "id": "YqMAKzSKxR9R"
      },
      "source": [
        "Write a program to calculate the sum of series up to n term. For example, if `n = 5` the series will become `2 + 22 + 222 + 2222 + 22222 = 24690`"
      ]
    },
    {
      "cell_type": "code",
      "metadata": {
        "id": "ruFQwloxxR9R",
        "colab": {
          "base_uri": "https://localhost:8080/"
        },
        "outputId": "42e6d105-e973-4e26-c24d-6ebd801af075"
      },
      "source": [
        "number = 5\n",
        "answer = 0\n",
        "for i in range(1,number+1):\n",
        "  nString = '2'\n",
        "  nString *= i\n",
        "  num = int(nString)\n",
        "  answer += num\n",
        "print(answer)"
      ],
      "execution_count": 28,
      "outputs": [
        {
          "output_type": "stream",
          "name": "stdout",
          "text": [
            "24690\n"
          ]
        }
      ]
    }
  ]
}